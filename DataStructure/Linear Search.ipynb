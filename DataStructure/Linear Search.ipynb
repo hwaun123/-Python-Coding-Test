{
 "cells": [
  {
   "cell_type": "code",
   "execution_count": 1,
   "id": "b351a69e",
   "metadata": {},
   "outputs": [
    {
     "name": "stdout",
     "output_type": "stream",
     "text": [
      "input target : 4\n",
      "list [8, 4, 2, 1, 6, 9, 7, 5, 3]\n",
      "target index =  1\n"
     ]
    },
    {
     "data": {
      "text/plain": [
       "True"
      ]
     },
     "execution_count": 1,
     "metadata": {},
     "output_type": "execute_result"
    }
   ],
   "source": [
    "## Linear Search\n",
    "def Linear_Search(lst, target):\n",
    "    for i in range(len(lst)):\n",
    "        if lst[i] == target:\n",
    "            print('target index = ', i)\n",
    "            return True\n",
    "    print('target Not in list')\n",
    "    return False\n",
    "    \n",
    "    \n",
    "## Test   \n",
    "lst = [8,4,2,1,6,9,7,5,3]\n",
    "\n",
    "target = int(input('input target : '))\n",
    "print('list', lst)\n",
    "Linear_Search(lst, target)"
   ]
  }
 ],
 "metadata": {
  "kernelspec": {
   "display_name": "Python 3",
   "language": "python",
   "name": "python3"
  },
  "language_info": {
   "codemirror_mode": {
    "name": "ipython",
    "version": 3
   },
   "file_extension": ".py",
   "mimetype": "text/x-python",
   "name": "python",
   "nbconvert_exporter": "python",
   "pygments_lexer": "ipython3",
   "version": "3.8.8"
  }
 },
 "nbformat": 4,
 "nbformat_minor": 5
}
