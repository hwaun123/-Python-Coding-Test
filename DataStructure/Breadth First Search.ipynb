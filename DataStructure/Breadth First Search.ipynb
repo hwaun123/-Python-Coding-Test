{
 "cells": [
  {
   "cell_type": "code",
   "execution_count": 1,
   "id": "70b0eb98",
   "metadata": {},
   "outputs": [
    {
     "name": "stdout",
     "output_type": "stream",
     "text": [
      "['A', 'B', 'C', 'D', 'E', 'G', 'H', 'F']\n"
     ]
    }
   ],
   "source": [
    "## Breadth First Search\n",
    "from collections import deque\n",
    "def BFS(graph, root):\n",
    "    visited = []\n",
    "    queue = deque()\n",
    "    \n",
    "    queue.appendleft(root)\n",
    "    \n",
    "    while queue:\n",
    "        node = queue.popleft()\n",
    "        \n",
    "        if node not in visited:\n",
    "            visited.append(node)\n",
    "            queue.extend(graph[node])\n",
    "    return visited\n",
    "## Test\n",
    "graph = {'A':['B','C'],\n",
    "         'B':['A','D','E'],\n",
    "         'C':['A','G','H'],\n",
    "         'D':['B'],\n",
    "         'E':['B','F'],\n",
    "         'F':['E'],\n",
    "         'G':['C'],\n",
    "         'H':['C']}\n",
    "print(BFS(graph, 'A'))"
   ]
  }
 ],
 "metadata": {
  "kernelspec": {
   "display_name": "Python 3 (ipykernel)",
   "language": "python",
   "name": "python3"
  },
  "language_info": {
   "codemirror_mode": {
    "name": "ipython",
    "version": 3
   },
   "file_extension": ".py",
   "mimetype": "text/x-python",
   "name": "python",
   "nbconvert_exporter": "python",
   "pygments_lexer": "ipython3",
   "version": "3.9.7"
  }
 },
 "nbformat": 4,
 "nbformat_minor": 5
}
