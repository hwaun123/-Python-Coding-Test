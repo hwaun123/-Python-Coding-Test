{
 "cells": [
  {
   "cell_type": "code",
   "execution_count": 1,
   "id": "35323f83",
   "metadata": {},
   "outputs": [
    {
     "name": "stdout",
     "output_type": "stream",
     "text": [
      "['A', 'C', 'H', 'G', 'B', 'E', 'F', 'D']\n"
     ]
    }
   ],
   "source": [
    "## Depth First Search iteration\n",
    "def DFS_iteration(graph, root):\n",
    "    visited = []\n",
    "    stack = [root]\n",
    "     \n",
    "    while stack:\n",
    "        node = stack.pop()\n",
    "        \n",
    "        if node not in visited:\n",
    "            visited.append(node)\n",
    "            stack.extend(graph[node])\n",
    "    \n",
    "    return visited\n",
    "## Test\n",
    "graph = {'A':['B','C'],\n",
    "         'B':['A','D','E'],\n",
    "         'C':['A','G','H'],\n",
    "         'D':['B'],\n",
    "         'E':['B','F'],\n",
    "         'F':['E'],\n",
    "         'G':['C'],\n",
    "         'H':['C']}\n",
    "\n",
    "print(DFS_iteration(graph, 'A'))"
   ]
  },
  {
   "cell_type": "code",
   "execution_count": 2,
   "id": "2fb1b1d3",
   "metadata": {},
   "outputs": [
    {
     "name": "stdout",
     "output_type": "stream",
     "text": [
      "['A', 'B', 'D', 'E', 'F', 'C', 'G', 'H']\n"
     ]
    }
   ],
   "source": [
    "## Depth First Search recursion\n",
    "def DFS_recursion(graph, current, visited = []):\n",
    "    visited.append(current)\n",
    "    \n",
    "    for node in graph[current]:\n",
    "        if node not in visited:\n",
    "            DFS_recursion(graph, node, visited)\n",
    "            \n",
    "    return visited\n",
    "## Test\n",
    "graph = {'A':['B','C'],\n",
    "         'B':['A','D','E'],\n",
    "         'C':['A','G','H'],\n",
    "         'D':['B'],\n",
    "         'E':['B','F'],\n",
    "         'F':['E'],\n",
    "         'G':['C'],\n",
    "         'H':['C']}\n",
    "\n",
    "print(DFS_recursion(graph, 'A'))"
   ]
  }
 ],
 "metadata": {
  "kernelspec": {
   "display_name": "Python 3",
   "language": "python",
   "name": "python3"
  },
  "language_info": {
   "codemirror_mode": {
    "name": "ipython",
    "version": 3
   },
   "file_extension": ".py",
   "mimetype": "text/x-python",
   "name": "python",
   "nbconvert_exporter": "python",
   "pygments_lexer": "ipython3",
   "version": "3.8.8"
  }
 },
 "nbformat": 4,
 "nbformat_minor": 5
}
