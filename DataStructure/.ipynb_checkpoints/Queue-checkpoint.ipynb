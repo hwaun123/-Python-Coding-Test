{
 "cells": [
  {
   "cell_type": "code",
   "execution_count": null,
   "id": "5b0036ef",
   "metadata": {},
   "outputs": [],
   "source": [
    "## Queue\n",
    "class queue():\n",
    "    \n",
    "    def __init__(self):\n",
    "        self.queue = []\n",
    "        \n",
    "    def enqueue(self, x):\n",
    "        self.queue.append(x)\n",
    "    \n",
    "    def dequeue(self):\n",
    "        if self.empty():\n",
    "            return \"큐가 비었습니다\"\n",
    "        else:\n",
    "            data = self.queue[0]\n",
    "            del self.queue[0]\n",
    "            return data\n",
    "        \n",
    "    def empty(self):\n",
    "        if len(self.queue) == 0:\n",
    "            return True\n",
    "        else:\n",
    "            return False"
   ]
  },
  {
   "cell_type": "code",
   "execution_count": null,
   "id": "4914a27c",
   "metadata": {},
   "outputs": [],
   "source": [
    "## Test 위 Queue 클래스 컴파일 후 실행\n",
    "queue = queue()\n",
    "\n",
    "print(queue.dequeue())\n",
    "\n",
    "queue.enqueue(1)\n",
    "queue.enqueue(2)\n",
    "queue.enqueue(3)\n",
    "queue.enqueue(4)\n",
    "queue.enqueue(5)\n",
    "\n",
    "print(queue.queue)\n",
    "\n",
    "print(queue.dequeue())\n",
    "print(queue.dequeue())\n",
    "print(queue.dequeue())\n",
    "print(queue.dequeue())\n",
    "print(queue.dequeue())\n",
    "\n",
    "print(queue.queue)\n",
    "\n",
    "print(queue.dequeue())"
   ]
  }
 ],
 "metadata": {
  "kernelspec": {
   "display_name": "Python 3",
   "language": "python",
   "name": "python3"
  },
  "language_info": {
   "codemirror_mode": {
    "name": "ipython",
    "version": 3
   },
   "file_extension": ".py",
   "mimetype": "text/x-python",
   "name": "python",
   "nbconvert_exporter": "python",
   "pygments_lexer": "ipython3",
   "version": "3.8.8"
  }
 },
 "nbformat": 4,
 "nbformat_minor": 5
}
