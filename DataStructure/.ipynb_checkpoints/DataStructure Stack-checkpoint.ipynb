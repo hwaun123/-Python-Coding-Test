{
 "cells": [
  {
   "cell_type": "code",
   "execution_count": 1,
   "id": "3e91432f",
   "metadata": {},
   "outputs": [],
   "source": [
    "## Stack\n",
    "class stack():\n",
    "    \n",
    "    def __init__(self):\n",
    "        self._data = []\n",
    "        \n",
    "    def size(self):\n",
    "        return len(self._data)\n",
    "    \n",
    "    def push(self, d):\n",
    "        self._data.append(d)\n",
    "    \n",
    "    def pop(self):\n",
    "        if self.empty():\n",
    "            return 'Stack Empty'\n",
    "        else:\n",
    "            pop = self._data[self.size() - 1]\n",
    "            del self._data[self.size() - 1]\n",
    "            return pop\n",
    "        \n",
    "    def empty(self):\n",
    "        if len(self._data) < 1:\n",
    "            return True\n",
    "        else:\n",
    "            return False\n",
    "        \n",
    "    def top(self):\n",
    "        if self.empty():\n",
    "            return 'Stack Empty'\n",
    "        else:\n",
    "            return self._data[self.size() - 1]"
   ]
  },
  {
   "cell_type": "code",
   "execution_count": 2,
   "id": "584c9c1b",
   "metadata": {},
   "outputs": [
    {
     "name": "stdout",
     "output_type": "stream",
     "text": [
      "Stack Empty\n",
      "Stack Empty\n",
      "5\n",
      "4\n",
      "3\n",
      "2\n",
      "1\n",
      "5\n",
      "5\n"
     ]
    }
   ],
   "source": [
    "## Test 위 stack 클래스 컴파일 후 실행\n",
    "stack = stack()\n",
    "\n",
    "print(stack.pop())\n",
    "print(stack.top())\n",
    "\n",
    "stack.push(1)\n",
    "stack.push(2)\n",
    "stack.push(3)\n",
    "stack.push(4)\n",
    "stack.push(5)\n",
    "\n",
    "print(stack.pop())\n",
    "print(stack.pop())\n",
    "print(stack.pop())\n",
    "print(stack.pop())\n",
    "print(stack.pop())\n",
    "\n",
    "stack.push(1)\n",
    "stack.push(2)\n",
    "stack.push(3)\n",
    "stack.push(4)\n",
    "stack.push(5)\n",
    "\n",
    "print(stack.top())\n",
    "print(stack.size())"
   ]
  }
 ],
 "metadata": {
  "kernelspec": {
   "display_name": "Python 3",
   "language": "python",
   "name": "python3"
  },
  "language_info": {
   "codemirror_mode": {
    "name": "ipython",
    "version": 3
   },
   "file_extension": ".py",
   "mimetype": "text/x-python",
   "name": "python",
   "nbconvert_exporter": "python",
   "pygments_lexer": "ipython3",
   "version": "3.8.8"
  }
 },
 "nbformat": 4,
 "nbformat_minor": 5
}
