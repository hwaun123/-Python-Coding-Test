{
 "cells": [
  {
   "cell_type": "code",
   "execution_count": 1,
   "id": "fa2b7135",
   "metadata": {},
   "outputs": [
    {
     "name": "stdout",
     "output_type": "stream",
     "text": [
      "input target : 4\n",
      "list [1, 2, 3, 4, 5, 6, 7, 8, 9]\n",
      "target index =  3\n"
     ]
    },
    {
     "data": {
      "text/plain": [
       "True"
      ]
     },
     "execution_count": 1,
     "metadata": {},
     "output_type": "execute_result"
    }
   ],
   "source": [
    "## Binary Search\n",
    "def Binary_Search(lst, target):\n",
    "    l, r = 0, len(lst)\n",
    "    while l <= r:\n",
    "        mid = (l + r) // 2  \n",
    "        if target == lst[mid]:\n",
    "            print('target index = ', mid)\n",
    "            return True\n",
    "        elif target < lst[mid]:\n",
    "            r = mid - 1\n",
    "        else:\n",
    "            l = mid + 1\n",
    "    print('target Not in list')\n",
    "    return False\n",
    "\n",
    "def Quick_Sort(lst):\n",
    "    if len(lst) < 2:\n",
    "        return lst\n",
    "\n",
    "    pivot = lst[len(lst) // 2]\n",
    "    left, mid, right = [], [], []\n",
    "    \n",
    "    for n in lst:\n",
    "        if n == pivot:\n",
    "            mid.append(n)\n",
    "        elif n < pivot:\n",
    "            left.append(n)\n",
    "        else:\n",
    "            right.append(n)\n",
    "    return Quick_Sort(left) + mid + Quick_Sort(right)\n",
    "    \n",
    "## Test   \n",
    "lst = [8,4,2,1,6,9,7,5,3]\n",
    "lst = Quick_Sort(lst)\n",
    "\n",
    "target = int(input('input target : '))\n",
    "print('list', lst)\n",
    "Binary_Search(lst, target)"
   ]
  }
 ],
 "metadata": {
  "kernelspec": {
   "display_name": "Python 3",
   "language": "python",
   "name": "python3"
  },
  "language_info": {
   "codemirror_mode": {
    "name": "ipython",
    "version": 3
   },
   "file_extension": ".py",
   "mimetype": "text/x-python",
   "name": "python",
   "nbconvert_exporter": "python",
   "pygments_lexer": "ipython3",
   "version": "3.8.8"
  }
 },
 "nbformat": 4,
 "nbformat_minor": 5
}
