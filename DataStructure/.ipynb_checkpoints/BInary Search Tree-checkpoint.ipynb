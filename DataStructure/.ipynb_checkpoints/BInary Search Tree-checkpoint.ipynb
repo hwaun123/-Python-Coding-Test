{
 "cells": [
  {
   "cell_type": "markdown",
   "id": "a29deb7c",
   "metadata": {},
   "source": [
    "# O(logN)"
   ]
  },
  {
   "cell_type": "code",
   "execution_count": 1,
   "id": "4e408084",
   "metadata": {},
   "outputs": [
    {
     "name": "stdout",
     "output_type": "stream",
     "text": [
      "True\n",
      "False\n"
     ]
    }
   ],
   "source": [
    "## Binary Search Tree\n",
    "class Node:\n",
    "    def __init__(self, value):\n",
    "        self.value = value\n",
    "        self.left = None\n",
    "        self.right = None\n",
    "class BST:\n",
    "    def __init__(self, root):\n",
    "        self.root = root\n",
    "        \n",
    "    def insert(self, value):\n",
    "        self.current_node = self.root\n",
    "        while True:\n",
    "            if value < self.current_node.value:\n",
    "                if self.current_node.left != None:\n",
    "                    self.current_node = self.current_node.left\n",
    "                else:\n",
    "                    self.current_node.left = Node(value)\n",
    "                    break\n",
    "            else:\n",
    "                if self.current_node.right != None:\n",
    "                    self.current_node = self.current_node.right\n",
    "                else:\n",
    "                    self.current_node.right = Node(value)\n",
    "                    break\n",
    "    def search(self, target):\n",
    "        self.current_node = self.root\n",
    "        \n",
    "        while self.current_node:\n",
    "            if self.current_node.value == target:\n",
    "                return True\n",
    "            elif target < self.current_node.value:\n",
    "                self.current_node = self.current_node.left\n",
    "            else:\n",
    "                self.current_node = self.current_node.right\n",
    "        return False\n",
    "## Test   \n",
    "root = Node(1)\n",
    "bst = BST(root)\n",
    "\n",
    "bst.insert(2)\n",
    "bst.insert(3)\n",
    "bst.insert(4)\n",
    "\n",
    "print(bst.search(4))\n",
    "print(bst.search(5))"
   ]
  }
 ],
 "metadata": {
  "kernelspec": {
   "display_name": "Python 3",
   "language": "python",
   "name": "python3"
  },
  "language_info": {
   "codemirror_mode": {
    "name": "ipython",
    "version": 3
   },
   "file_extension": ".py",
   "mimetype": "text/x-python",
   "name": "python",
   "nbconvert_exporter": "python",
   "pygments_lexer": "ipython3",
   "version": "3.8.8"
  }
 },
 "nbformat": 4,
 "nbformat_minor": 5
}
