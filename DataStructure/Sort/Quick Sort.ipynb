{
 "cells": [
  {
   "cell_type": "code",
   "execution_count": 1,
   "id": "054bbc47",
   "metadata": {},
   "outputs": [
    {
     "name": "stdout",
     "output_type": "stream",
     "text": [
      "[1, 2, 3, 4, 5, 6]\n"
     ]
    }
   ],
   "source": [
    "## Quick Sort\n",
    "def Quick_Sort(lst):\n",
    "    if len(lst) < 2:\n",
    "        return lst\n",
    "    \n",
    "    pivot = lst[len(lst) // 2]\n",
    "    left, mid, right = [], [], []\n",
    "    \n",
    "    for n in lst:\n",
    "        if n == pivot:\n",
    "            mid.append(n)\n",
    "        elif n < pivot:\n",
    "            left.append(n)\n",
    "        elif n > pivot:\n",
    "            right.append(n)\n",
    "    return Quick_Sort(left) + mid + Quick_Sort(right)\n",
    "## Test\n",
    "lst = [3,4,2,5,6,1]\n",
    "print(Quick_Sort(lst))"
   ]
  }
 ],
 "metadata": {
  "kernelspec": {
   "display_name": "Python 3",
   "language": "python",
   "name": "python3"
  },
  "language_info": {
   "codemirror_mode": {
    "name": "ipython",
    "version": 3
   },
   "file_extension": ".py",
   "mimetype": "text/x-python",
   "name": "python",
   "nbconvert_exporter": "python",
   "pygments_lexer": "ipython3",
   "version": "3.8.8"
  }
 },
 "nbformat": 4,
 "nbformat_minor": 5
}
