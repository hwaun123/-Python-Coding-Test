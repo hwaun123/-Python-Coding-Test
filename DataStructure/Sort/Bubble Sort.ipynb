{
 "cells": [
  {
   "cell_type": "markdown",
   "id": "c2bc9117",
   "metadata": {},
   "source": [
    "# O(n^2)"
   ]
  },
  {
   "cell_type": "code",
   "execution_count": 1,
   "id": "887db74e",
   "metadata": {},
   "outputs": [
    {
     "name": "stdout",
     "output_type": "stream",
     "text": [
      "[1, 2, 3, 4, 5, 6]\n"
     ]
    }
   ],
   "source": [
    "## Bubble Sort\n",
    "def Bubble(lst):\n",
    "    \n",
    "    for i in range(len(lst) - 1):\n",
    "        for j in range(len(lst) - i - 1):\n",
    "            if lst[j] > lst[j + 1]:\n",
    "                lst[j], lst[j + 1] = lst[j + 1], lst[j]\n",
    "    return lst\n",
    "## Test\n",
    "lst = [3,4,2,5,6,1]\n",
    "print(Bubble(lst))"
   ]
  }
 ],
 "metadata": {
  "kernelspec": {
   "display_name": "Python 3",
   "language": "python",
   "name": "python3"
  },
  "language_info": {
   "codemirror_mode": {
    "name": "ipython",
    "version": 3
   },
   "file_extension": ".py",
   "mimetype": "text/x-python",
   "name": "python",
   "nbconvert_exporter": "python",
   "pygments_lexer": "ipython3",
   "version": "3.8.8"
  }
 },
 "nbformat": 4,
 "nbformat_minor": 5
}
