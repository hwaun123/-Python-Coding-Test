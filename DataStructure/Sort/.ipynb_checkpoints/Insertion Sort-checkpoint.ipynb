{
 "cells": [
  {
   "cell_type": "markdown",
   "id": "cbf5d2e8",
   "metadata": {},
   "source": [
    "# O(n²)"
   ]
  },
  {
   "cell_type": "code",
   "execution_count": 1,
   "id": "9e05aaa7",
   "metadata": {},
   "outputs": [
    {
     "name": "stdout",
     "output_type": "stream",
     "text": [
      "[1, 2, 3, 4, 5, 6]\n"
     ]
    }
   ],
   "source": [
    "## Insertion Sort\n",
    "def Insertion_Sort(lst):\n",
    "    for i in range(len(lst)):\n",
    "        for j in range(i, 0, -1):\n",
    "            if lst[j - 1] > lst[j]:\n",
    "                lst[j - 1], lst[j] = lst[j], lst[j - 1]\n",
    "    return lst\n",
    "## Test\n",
    "lst = [3,4,2,5,6,1]\n",
    "print(Insertion_Sort(lst))"
   ]
  }
 ],
 "metadata": {
  "kernelspec": {
   "display_name": "Python 3",
   "language": "python",
   "name": "python3"
  },
  "language_info": {
   "codemirror_mode": {
    "name": "ipython",
    "version": 3
   },
   "file_extension": ".py",
   "mimetype": "text/x-python",
   "name": "python",
   "nbconvert_exporter": "python",
   "pygments_lexer": "ipython3",
   "version": "3.8.8"
  }
 },
 "nbformat": 4,
 "nbformat_minor": 5
}
