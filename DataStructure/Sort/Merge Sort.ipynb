{
 "cells": [
  {
   "cell_type": "markdown",
   "id": "b8efebec",
   "metadata": {},
   "source": [
    "# O(NlogN)"
   ]
  },
  {
   "cell_type": "code",
   "execution_count": 1,
   "id": "257a69c0",
   "metadata": {},
   "outputs": [
    {
     "name": "stdout",
     "output_type": "stream",
     "text": [
      "[1, 2, 3, 4, 5, 6]\n"
     ]
    }
   ],
   "source": [
    "## Merge Sort\n",
    "def Devide(lst):\n",
    "    if len(lst) < 2:\n",
    "        return lst\n",
    "    mid = len(lst) // 2\n",
    "    left = Devide(lst[:mid])\n",
    "    right = Devide(lst[mid:])\n",
    "    \n",
    "    return Merge(left, right)\n",
    "\n",
    "def Merge(left, right):\n",
    "    merge_list = []\n",
    "    l, r = 0, 0\n",
    "    \n",
    "    while l < len(left) and r < len(right):\n",
    "        if left[l] < right[r]:\n",
    "            merge_list.append(left[l])\n",
    "            l += 1\n",
    "        else:\n",
    "            merge_list.append(right[r])\n",
    "            r += 1\n",
    "            \n",
    "    merge_list += left[l:]\n",
    "    merge_list += right[r:]\n",
    "    \n",
    "    return merge_list\n",
    "## Test\n",
    "lst = [3,4,2,5,6,1]\n",
    "print(Devide(lst))"
   ]
  }
 ],
 "metadata": {
  "kernelspec": {
   "display_name": "Python 3",
   "language": "python",
   "name": "python3"
  },
  "language_info": {
   "codemirror_mode": {
    "name": "ipython",
    "version": 3
   },
   "file_extension": ".py",
   "mimetype": "text/x-python",
   "name": "python",
   "nbconvert_exporter": "python",
   "pygments_lexer": "ipython3",
   "version": "3.8.8"
  }
 },
 "nbformat": 4,
 "nbformat_minor": 5
}
