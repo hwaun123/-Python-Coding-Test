{
 "cells": [
  {
   "cell_type": "markdown",
   "id": "b71ef302",
   "metadata": {},
   "source": [
    "# O(n²)"
   ]
  },
  {
   "cell_type": "code",
   "execution_count": 1,
   "id": "c58740bb",
   "metadata": {},
   "outputs": [
    {
     "name": "stdout",
     "output_type": "stream",
     "text": [
      "[1, 2, 3, 4, 5, 6]\n"
     ]
    }
   ],
   "source": [
    "## Selection_Sort\n",
    "def Selection_Sort(lst):\n",
    "    for i in range(len(lst)):\n",
    "        min_idx = i\n",
    "        for j in range(i, len(lst)):\n",
    "            if lst[j] < lst[min_idx]:\n",
    "                min_idx = j\n",
    "        lst[i], lst[min_idx] = lst[min_idx], lst[i]\n",
    "    return lst\n",
    "## Test\n",
    "lst = [3,4,2,5,6,1]\n",
    "print(Selection_Sort(lst))"
   ]
  }
 ],
 "metadata": {
  "kernelspec": {
   "display_name": "Python 3",
   "language": "python",
   "name": "python3"
  },
  "language_info": {
   "codemirror_mode": {
    "name": "ipython",
    "version": 3
   },
   "file_extension": ".py",
   "mimetype": "text/x-python",
   "name": "python",
   "nbconvert_exporter": "python",
   "pygments_lexer": "ipython3",
   "version": "3.8.8"
  }
 },
 "nbformat": 4,
 "nbformat_minor": 5
}
