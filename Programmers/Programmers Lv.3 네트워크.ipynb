{
 "cells": [
  {
   "cell_type": "markdown",
   "id": "191d6379",
   "metadata": {},
   "source": [
    "# Programmers Lv.3\n",
    "\n",
    "## 네트워크\n",
    "\n",
    "### 네트워크란 컴퓨터 상호 간에 정보를 교환할 수 있도록 연결된 형태를 의미합니다. \n",
    "\n",
    "### 예를 들어, 컴퓨터 A와 컴퓨터 B가 직접적으로 연결되어있고,\n",
    "\n",
    "### 컴퓨터 B와 컴퓨터 C가 직접적으로 연결되어 있을 때 컴퓨터 A와 컴퓨터 C도 간접적으로 연결되어 정보를 교환할 수 있습니다. \n",
    "\n",
    "### 따라서 컴퓨터 A, B, C는 모두 같은 네트워크 상에 있다고 할 수 있습니다.\n",
    "\n",
    "## RESTRICTION\n",
    "\n",
    "### 컴퓨터의 개수 n은 1 이상 200 이하인 자연수입니다.\n",
    "\n",
    "### 각 컴퓨터는 0부터 n-1인 정수로 표현합니다.\n",
    "\n",
    "### i번 컴퓨터와 j번 컴퓨터가 연결되어 있으면 computers[i][j]를 1로 표현합니다.\n",
    "\n",
    "### computer[i][i]는 항상 1입니다.\n",
    "\n",
    "## INPUT\n",
    "\n",
    "### 3, [[1, 1, 0], [1, 1, 0], [0, 0, 1]]\t\n",
    "\n",
    "## OUTPUT\n",
    "\n",
    "### 2"
   ]
  },
  {
   "cell_type": "code",
   "execution_count": null,
   "id": "a4e84608",
   "metadata": {},
   "outputs": [],
   "source": [
    "## Programmers Lv.3\n",
    "def DFS(n, computers, com, visited):\n",
    "    visited[com] = True\n",
    "    \n",
    "    for connect in range(n):\n",
    "        if connect != com and computers[com][connect] == 1:\n",
    "            if visited[connect] == False:\n",
    "                DFS(n, computers, connect, visited)\n",
    "\n",
    "def solution(n, computers):\n",
    "    answer = 0\n",
    "    visited = [False for i in range(n)]\n",
    "    \n",
    "    for com in range(n):\n",
    "        if visited[com] == False:\n",
    "            DFS(n, computers, com, visited)\n",
    "            answer += 1\n",
    "            \n",
    "    return answer"
   ]
  }
 ],
 "metadata": {
  "kernelspec": {
   "display_name": "Python 3 (ipykernel)",
   "language": "python",
   "name": "python3"
  },
  "language_info": {
   "codemirror_mode": {
    "name": "ipython",
    "version": 3
   },
   "file_extension": ".py",
   "mimetype": "text/x-python",
   "name": "python",
   "nbconvert_exporter": "python",
   "pygments_lexer": "ipython3",
   "version": "3.9.7"
  }
 },
 "nbformat": 4,
 "nbformat_minor": 5
}
