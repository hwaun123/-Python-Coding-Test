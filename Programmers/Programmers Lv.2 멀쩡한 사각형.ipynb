{
 "cells": [
  {
   "cell_type": "markdown",
   "id": "d2538f85",
   "metadata": {},
   "source": [
    "# Programmers Lv.2\n",
    "\n",
    "## 멀쩡한 사각형\n",
    "\n",
    "### 가로 길이가 Wcm, 세로 길이가 Hcm인 직사각형 종이가 있습니다. \n",
    "\n",
    "### 종이에는 가로, 세로 방향과 평행하게 격자 형태로 선이 그어져 있으며, 모든 격자칸은 1cm x 1cm 크기입니다. \n",
    "\n",
    "### 이 종이를 격자 선을 따라 1cm × 1cm의 정사각형으로 잘라 사용할 예정이었는데, \n",
    "\n",
    "### 누군가가 이 종이를 대각선 꼭지점 2개를 잇는 방향으로 잘라 놓았습니다. 그러므로 현재 직사각형 종이는\n",
    "\n",
    "### 크기가 같은 직각삼각형 2개로 나누어진 상태입니다. 새로운 종이를 구할 수 없는 상태이기 때문에, \n",
    "\n",
    "### 이 종이에서 원래 종이의 가로, 세로 방향과 평행하게 1cm × 1cm로 \n",
    "\n",
    "### 잘라 사용할 수 있는 만큼만 사용하기로 하였습니다.\n",
    "\n",
    "### 가로의 길이 W와 세로의 길이 H가 주어질 때, 사용할 수 있는 정사각형의 \n",
    "\n",
    "### 개수를 구하는 solution 함수를 완성해 주세요.\n",
    "\n",
    "## RESTRICTION\n",
    "\n",
    "### W, H : 1억 이하의 자연수\n",
    "\n",
    "## INPUT\n",
    "\n",
    "### W = 8, H = 12\n",
    "\n",
    "## OUTPUT\n",
    "\n",
    "### RESULT = 80"
   ]
  },
  {
   "cell_type": "code",
   "execution_count": 1,
   "id": "54f301b3",
   "metadata": {},
   "outputs": [],
   "source": [
    "## Solution\n",
    "def solution(w,h):\n",
    "    if w < h:\n",
    "        w,h = h,w\n",
    "        \n",
    "    a = w\n",
    "    b = h\n",
    "    \n",
    "    while b > 0:\n",
    "        a, b = b, a % b\n",
    "        \n",
    "    answer = w * h - (w + h - a)\n",
    "    return answer"
   ]
  },
  {
   "cell_type": "code",
   "execution_count": 3,
   "id": "4f1d3c3a",
   "metadata": {},
   "outputs": [
    {
     "name": "stdout",
     "output_type": "stream",
     "text": [
      "8 12\n",
      "80\n"
     ]
    }
   ],
   "source": [
    "## Test\n",
    "def solution(w,h):\n",
    "    if w < h:\n",
    "        w,h = h,w\n",
    "        \n",
    "    a = w\n",
    "    b = h\n",
    "    \n",
    "    while b > 0:\n",
    "        a, b = b, a % b\n",
    "        \n",
    "    answer = w * h - (w + h - a)\n",
    "    return answer\n",
    "\n",
    "w, h = map(int,input().split())\n",
    "print(solution(w,h))"
   ]
  }
 ],
 "metadata": {
  "kernelspec": {
   "display_name": "Python 3",
   "language": "python",
   "name": "python3"
  },
  "language_info": {
   "codemirror_mode": {
    "name": "ipython",
    "version": 3
   },
   "file_extension": ".py",
   "mimetype": "text/x-python",
   "name": "python",
   "nbconvert_exporter": "python",
   "pygments_lexer": "ipython3",
   "version": "3.8.8"
  }
 },
 "nbformat": 4,
 "nbformat_minor": 5
}
