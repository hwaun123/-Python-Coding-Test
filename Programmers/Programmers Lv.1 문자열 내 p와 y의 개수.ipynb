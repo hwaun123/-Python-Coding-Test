{
 "cells": [
  {
   "cell_type": "markdown",
   "id": "07639a5f",
   "metadata": {},
   "source": [
    "# Programmers Lv.1\n",
    "\n",
    "## 문자열 내 p와 y의 개수\n",
    "\n",
    "### 대문자와 소문자가 섞여있는 문자열 s가 주어집니다. s에 'p'의 개수와 'y'의 개수를 비교해 같으면 True, 다르면 False\n",
    "\n",
    "### 를 return 하는 solution를 완성하세요. 'p', 'y' 모두 하나도 없는 경우는 항상 True를 리턴합니다.\n",
    "\n",
    "### 단, 개수를 비교할 때 대문자와 소문자는 구별하지 않습니다.\n",
    "\n",
    "### 예를 들어 s가 \"pPoooyY\"면 true를 return하고 \"Pyy\"라면 false를 return합니다.\n",
    "\n",
    "## RESTRICTION\n",
    "\n",
    "### 문자열 s의 길이 : 50 이하의 자연수\n",
    "\n",
    "### 문자열 s는 알파벳으로만 이루어져 있습니다.\n",
    "\n",
    "## INPUT \n",
    "\n",
    "### \"pPoooyY\"\n",
    "\n",
    "## OUTPUT\n",
    "\n",
    "### True\n",
    "\n",
    "## INPUT \n",
    "\n",
    "### \"Pyy\"\n",
    "\n",
    "## OUTPUT\n",
    "\n",
    "### False"
   ]
  },
  {
   "cell_type": "code",
   "execution_count": null,
   "id": "853ddcda",
   "metadata": {},
   "outputs": [],
   "source": [
    "## Solution\n",
    "def solution(s):\n",
    "    \n",
    "    answer = True\n",
    "    \n",
    "    if s.lower().count('p') != s.lower().count('y'):\n",
    "        answer = False\n",
    "        \n",
    "    return answer"
   ]
  },
  {
   "cell_type": "code",
   "execution_count": null,
   "id": "bd3f112d",
   "metadata": {},
   "outputs": [],
   "source": [
    "## Test\n",
    "def solution(s):\n",
    "    \n",
    "    answer = True\n",
    "    \n",
    "    if s.lower().count('p') != s.lower().count('y'):\n",
    "        answer = False\n",
    "        \n",
    "    return answer\n",
    "\n",
    "s = input()\n",
    "\n",
    "print(solution(s))"
   ]
  }
 ],
 "metadata": {
  "kernelspec": {
   "display_name": "Python 3",
   "language": "python",
   "name": "python3"
  },
  "language_info": {
   "codemirror_mode": {
    "name": "ipython",
    "version": 3
   },
   "file_extension": ".py",
   "mimetype": "text/x-python",
   "name": "python",
   "nbconvert_exporter": "python",
   "pygments_lexer": "ipython3",
   "version": "3.8.8"
  }
 },
 "nbformat": 4,
 "nbformat_minor": 5
}
