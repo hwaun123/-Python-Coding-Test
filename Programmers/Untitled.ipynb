{
 "cells": [
  {
   "cell_type": "code",
   "execution_count": 6,
   "id": "a5195c4e",
   "metadata": {},
   "outputs": [
    {
     "name": "stdout",
     "output_type": "stream",
     "text": [
      "ppypyp\n",
      "t\n"
     ]
    }
   ],
   "source": [
    "s = input()\n",
    "\n",
    "if s.lower().count('p') != s.count('y'):\n",
    "    print(\"f\")\n"
   ]
  },
  {
   "cell_type": "code",
   "execution_count": 16,
   "id": "e8523627",
   "metadata": {},
   "outputs": [
    {
     "name": "stdout",
     "output_type": "stream",
     "text": [
      "0\n",
      "1\n",
      "2\n",
      "박박박\n"
     ]
    }
   ],
   "source": [
    "def solution(n):\n",
    "    answer = ''\n",
    "    for i in range(n):\n",
    "        if n % 2 == 0:\n",
    "            answer += '수'\n",
    "        else:\n",
    "            print(i)\n",
    "            answer += '박'\n",
    "    return answer\n",
    "\n",
    "print(solution(3))"
   ]
  },
  {
   "cell_type": "code",
   "execution_count": 17,
   "id": "f07f57df",
   "metadata": {},
   "outputs": [
    {
     "name": "stdout",
     "output_type": "stream",
     "text": [
      "5\n",
      "5\n",
      "4\n",
      "3\n",
      "2\n",
      "1\n",
      "1\n",
      "2\n",
      "3\n",
      "4\n",
      "5\n"
     ]
    }
   ],
   "source": [
    "N = int(input())\n",
    "\n",
    "numList = []\n",
    "for i in range(N):\n",
    "    n = int(input())\n",
    "    numList.append(n)\n",
    "\n",
    "for i in range(N - 1, 0, -1):\n",
    "    for j in range(i):\n",
    "        if numList[j] > numList[j + 1]:\n",
    "            numList[j + 1], numList[j] = numList[j], numList[j + 1]\n",
    "\n",
    "for i in range(N):\n",
    "    print(numList[i])"
   ]
  },
  {
   "cell_type": "code",
   "execution_count": 26,
   "id": "5df88b04",
   "metadata": {},
   "outputs": [
    {
     "name": "stdout",
     "output_type": "stream",
     "text": [
      "5 4\n",
      "5 4 5 4 5\n",
      "0\n"
     ]
    }
   ],
   "source": [
    "N, M = map(int,input().split())\n",
    "\n",
    "numList = list(map(int,input().split()))\n",
    "\n",
    "result = 0\n",
    "for i in range(N):\n",
    "    for j in range(N):\n",
    "        for k in range(N):\n",
    "            if i != j and j != k and i != k:\n",
    "                Sum = numList[i] + numList[j] + numList[k]\n",
    "                if Sum <= M:\n",
    "                    if Sum > result:\n",
    "                        result = Sum\n",
    "print(result)"
   ]
  },
  {
   "cell_type": "code",
   "execution_count": 1,
   "id": "d3163bd4",
   "metadata": {},
   "outputs": [
    {
     "name": "stdout",
     "output_type": "stream",
     "text": [
      "1\n",
      "0\n"
     ]
    }
   ],
   "source": [
    "Y = int(input())\n",
    "\n",
    "if (Y % 4 == 0 and Y % 100 != 0) or Y % 400 == 0:\n",
    "    print(1)\n",
    "else:\n",
    "    print(0)"
   ]
  },
  {
   "cell_type": "code",
   "execution_count": 4,
   "id": "e74af111",
   "metadata": {},
   "outputs": [
    {
     "name": "stdout",
     "output_type": "stream",
     "text": [
      "5\n",
      "5\n",
      "4\n",
      "3\n",
      "2\n",
      "1\n",
      "1\n",
      "2\n",
      "3\n",
      "4\n",
      "5\n"
     ]
    }
   ],
   "source": [
    "N = int(input())\n",
    "\n",
    "numList = []\n",
    "for i in range(N):\n",
    "    n = int(input())\n",
    "    numList.append(n)\n",
    "\n",
    "for i in range(N - 1, 0, -1):\n",
    "    for j in range(i):\n",
    "        if numList[j] > numList[j + 1]:\n",
    "            numList[j + 1], numList[j] = numList[j], numList[j + 1]\n",
    "\n",
    "for i in range(N):\n",
    "    print(numList[i])"
   ]
  },
  {
   "cell_type": "code",
   "execution_count": 11,
   "id": "ed9f918d",
   "metadata": {},
   "outputs": [
    {
     "name": "stdout",
     "output_type": "stream",
     "text": [
      "1\n",
      "2\n",
      "3\n",
      "4\n",
      "5\n",
      "6\n",
      "7\n",
      "8\n",
      "9\n",
      "9\n",
      "9\n"
     ]
    }
   ],
   "source": [
    "nlist = []\n",
    "\n",
    "for i in range(9):\n",
    "    nlist.append(int(input()))\n",
    "\n",
    "print(max(nlist),'\\n',nlist.index(max(nlist)) + 1, sep = '')"
   ]
  }
 ],
 "metadata": {
  "kernelspec": {
   "display_name": "Python 3",
   "language": "python",
   "name": "python3"
  },
  "language_info": {
   "codemirror_mode": {
    "name": "ipython",
    "version": 3
   },
   "file_extension": ".py",
   "mimetype": "text/x-python",
   "name": "python",
   "nbconvert_exporter": "python",
   "pygments_lexer": "ipython3",
   "version": "3.8.8"
  }
 },
 "nbformat": 4,
 "nbformat_minor": 5
}
