{
 "cells": [
  {
   "cell_type": "markdown",
   "id": "be60f434",
   "metadata": {},
   "source": [
    "# Programmers Lv.1\n",
    "\n",
    "## 수박수박수박수박수박수?\n",
    "\n",
    "### 길이가 n이고, \"수박수박수박수....\"와 같은 패턴을 유지하는 문자열을 리턴하는 함수, solution을 완성하세요.\n",
    "\n",
    "### 예를들어 n이 4이면 \"수박수박\"을 리턴하고 3이라면 \"수박수\"를 리턴하면 됩니다.\n",
    "\n",
    "## RESTRICTION\n",
    "\n",
    "### n은 길이 10,000이하인 자연수입니다.\n",
    "\n",
    "## INPUT\n",
    "\n",
    "### 3\n",
    "\n",
    "## OUTPUT\n",
    "\n",
    "### \"수박수\"\n",
    "\n",
    "## INPUT\n",
    "\n",
    "### 4\n",
    "\n",
    "## OUTPUT\n",
    "\n",
    "### \"수박수박\""
   ]
  },
  {
   "cell_type": "code",
   "execution_count": 1,
   "id": "74f73b5c",
   "metadata": {},
   "outputs": [],
   "source": [
    "## Solution\n",
    "def solution(n):\n",
    "    answer = ''\n",
    "    for i in range(n):\n",
    "        if i % 2 == 0:\n",
    "            answer += '수'\n",
    "        else:\n",
    "            answer += '박'\n",
    "    return answer"
   ]
  },
  {
   "cell_type": "code",
   "execution_count": 2,
   "id": "21779d8d",
   "metadata": {},
   "outputs": [
    {
     "name": "stdout",
     "output_type": "stream",
     "text": [
      "23\n",
      "수박수박수박수박수박수박수박수박수박수박수박수\n"
     ]
    }
   ],
   "source": [
    "## Test\n",
    "def solution(n):\n",
    "    answer = ''\n",
    "    for i in range(n):\n",
    "        if i % 2 == 0:\n",
    "            answer += '수'\n",
    "        else:\n",
    "            answer += '박'\n",
    "    return answer\n",
    "\n",
    "n = int(input())\n",
    "\n",
    "print(solution(n))"
   ]
  }
 ],
 "metadata": {
  "kernelspec": {
   "display_name": "Python 3",
   "language": "python",
   "name": "python3"
  },
  "language_info": {
   "codemirror_mode": {
    "name": "ipython",
    "version": 3
   },
   "file_extension": ".py",
   "mimetype": "text/x-python",
   "name": "python",
   "nbconvert_exporter": "python",
   "pygments_lexer": "ipython3",
   "version": "3.8.8"
  }
 },
 "nbformat": 4,
 "nbformat_minor": 5
}
