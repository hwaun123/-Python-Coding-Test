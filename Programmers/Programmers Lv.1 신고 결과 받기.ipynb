{
 "cells": [
  {
   "cell_type": "markdown",
   "id": "b1e94f75",
   "metadata": {},
   "source": [
    "# Programmers Lv.1\n",
    "\n",
    "## 신고 결과 받기\n",
    "\n",
    "### 신입사원 무지는 게시판 불량 이용자를 신고하고 처리 결과를 메일로 발송하는 시스템을 개발하려 합니다. \n",
    "\n",
    "### 무지가 개발하려는 시스템은 다음과 같습니다.\n",
    "\n",
    "### 각 유저는 한 번에 한 명의 유저를 신고할 수 있습니다.\n",
    "\n",
    "### 신고 횟수에 제한은 없습니다. 서로 다른 유저를 계속해서 신고할 수 있습니다.\n",
    "\n",
    "### 한 유저를 여러 번 신고할 수도 있지만, 동일한 유저에 대한 신고 횟수는 1회로 처리됩니다.\n",
    "\n",
    "### k번 이상 신고된 유저는 게시판 이용이 정지되며, 해당 유저를 신고한 모든 유저에게 정지 사실을 메일로 발송합니다.\n",
    "\n",
    "### 유저가 신고한 모든 내용을 취합하여 마지막에 한꺼번에 게시판 이용 정지를 시키면서 정지 메일을 발송합니다.\n",
    "\n",
    "### 이용자의 ID가 담긴 문자열 배열 id_list, 각 이용자가 신고한 이용자의 ID 정보가 담긴 문자열 배열 report, \n",
    "\n",
    "### 정지 기준이 되는 신고 횟수 k가 매개변수로 주어질 때, \n",
    "\n",
    "### 각 유저별로 처리 결과 메일을 받은 횟수를 배열에 담아 return 하도록 solution 함수를 완성해주세요.\n",
    "\n",
    "## INPUT\n",
    "\n",
    "### [\"muzi\", \"frodo\", \"apeach\", \"neo\"], [\"muzi frodo\",\"apeach frodo\",\"frodo neo\",\"muzi neo\",\"apeach muzi\"]\n",
    "\n",
    "### 2\n",
    "\n",
    "## OUTPUT\n",
    "\n",
    "### [2,1,1,0]"
   ]
  }
 ],
 "metadata": {
  "kernelspec": {
   "display_name": "Python 3 (ipykernel)",
   "language": "python",
   "name": "python3"
  },
  "language_info": {
   "codemirror_mode": {
    "name": "ipython",
    "version": 3
   },
   "file_extension": ".py",
   "mimetype": "text/x-python",
   "name": "python",
   "nbconvert_exporter": "python",
   "pygments_lexer": "ipython3",
   "version": "3.9.7"
  }
 },
 "nbformat": 4,
 "nbformat_minor": 5
}
