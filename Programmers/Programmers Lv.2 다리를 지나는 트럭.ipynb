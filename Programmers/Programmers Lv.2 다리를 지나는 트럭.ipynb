{
 "cells": [
  {
   "cell_type": "markdown",
   "id": "75509a58",
   "metadata": {},
   "source": [
    "# Programmers Lv.2\n",
    "\n",
    "## 다리를 지나는 트럭\n",
    "\n",
    "### 트럭 여러 대가 강을 가로지르는 일차선 다리를 정해진 순으로 건너려 합니다. \n",
    "\n",
    "### 모든 트럭이 다리를 건너려면 최소 몇 초가 걸리는지 알아내야 합니다. \n",
    "\n",
    "### 다리에는 트럭이 최대 bridge_length대 올라갈 수 있으며, 다리는 weight 이하까지의 무게를 견딜 수 있습니다. \n",
    "\n",
    "### 단, 다리에 완전히 오르지 않은 트럭의 무게는 무시합니다.\n",
    "\n",
    "### solution 함수의 매개변수로 다리에 올라갈 수 있는 트럭 수 bridge_length, \n",
    "\n",
    "### 다리가 견딜 수 있는 무게 weight, 트럭 별 무게 truck_weights가 주어집니다. \n",
    "\n",
    "### 이때 모든 트럭이 다리를 건너려면 최소 몇 초가 걸리는지 return 하도록 solution 함수를 완성하세요.\n",
    "\n",
    "## RESTRICTION\n",
    "\n",
    "### bridge_length는 1 이상 10,000 이하입니다.\n",
    "\n",
    "### weight는 1 이상 10,000 이하입니다.\n",
    "\n",
    "### truck_weights의 길이는 1 이상 10,000 이하입니다.\n",
    "\n",
    "### 모든 트럭의 무게는 1 이상 weight 이하입니다.\n",
    "\n",
    "## INPUT\n",
    "\n",
    "### 2, 10, [7,4,5,6]\n",
    "\n",
    "## OUTPUT\n",
    "\n",
    "### 8"
   ]
  },
  {
   "cell_type": "code",
   "execution_count": null,
   "id": "156f18c0",
   "metadata": {},
   "outputs": [],
   "source": [
    "## Solution\n",
    "def solution(bridge_length, weight, truck_weights):\n",
    "    answer = 0\n",
    "    bridge = [0] * bridge_length\n",
    "    \n",
    "    while bridge:\n",
    "        answer += 1\n",
    "        bridge.pop(0)\n",
    "        \n",
    "        if truck_weights:\n",
    "            if sum(bridge) + truck_weights[0] <= weight:\n",
    "                bridge.append(truck_weights.pop(0))\n",
    "            else:\n",
    "                bridge.append(0)\n",
    "    return answer"
   ]
  },
  {
   "cell_type": "code",
   "execution_count": null,
   "id": "d6e4cab3",
   "metadata": {},
   "outputs": [],
   "source": [
    "## Test\n",
    "def solution(bridge_length, weight, truck_weights):\n",
    "    answer = 0\n",
    "    bridge = [0] * bridge_length\n",
    "    \n",
    "    while bridge:\n",
    "        answer += 1\n",
    "        bridge.pop(0)\n",
    "        \n",
    "        if truck_weights:\n",
    "            if sum(bridge) + truck_weights[0] <= weight:\n",
    "                bridge.append(truck_weights.pop(0))\n",
    "            else:\n",
    "                bridge.append(0)\n",
    "    return answer\n",
    "print(solution(2, 10, [7,4,5,6]))"
   ]
  }
 ],
 "metadata": {
  "kernelspec": {
   "display_name": "Python 3 (ipykernel)",
   "language": "python",
   "name": "python3"
  },
  "language_info": {
   "codemirror_mode": {
    "name": "ipython",
    "version": 3
   },
   "file_extension": ".py",
   "mimetype": "text/x-python",
   "name": "python",
   "nbconvert_exporter": "python",
   "pygments_lexer": "ipython3",
   "version": "3.9.7"
  }
 },
 "nbformat": 4,
 "nbformat_minor": 5
}
