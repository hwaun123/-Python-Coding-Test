{
 "cells": [
  {
   "cell_type": "markdown",
   "id": "fdc49591",
   "metadata": {},
   "source": [
    "# Programmers Lv.3\n",
    "\n",
    "## 입국심사\n",
    "\n",
    "### n명이 입국심사를 위해 줄을 서서 기다리고 있습니다. 각 입국심사대에 있는 심사관마다 심사하는데 걸리는 시간은 다릅니다.\n",
    "\n",
    "### 처음에 모든 심사대는 비어있습니다. 한 심사대에서는 동시에 한 명만 심사를 할 수 있습니다. \n",
    "\n",
    "### 가장 앞에 서 있는 사람은 비어 있는 심사대로 가서 심사를 받을 수 있습니다. \n",
    "\n",
    "### 하지만 더 빨리 끝나는 심사대가 있으면 기다렸다가 그곳으로 가서 심사를 받을 수도 있습니다.\n",
    "\n",
    "### 모든 사람이 심사를 받는데 걸리는 시간을 최소로 하고 싶습니다.\n",
    "\n",
    "### 입국심사를 기다리는 사람 수 n, 각 심사관이 한 명을 심사하는데 걸리는 시간이 담긴 배열 times가 매개변수로 주어질 때, \n",
    "\n",
    "### 모든 사람이 심사를 받는데 걸리는 시간의 최솟값을 return 하도록 solution 함수를 작성해주세요.\n",
    "\n",
    "## RESTRICTION\n",
    "\n",
    "### 입국심사를 기다리는 사람은 1명 이상 1,000,000,000명 이하입니다.\n",
    "\n",
    "### 각 심사관이 한 명을 심사하는데 걸리는 시간은 1분 이상 1,000,000,000분 이하입니다.\n",
    "\n",
    "### 심사관은 1명 이상 100,000명 이하입니다.\n",
    "\n",
    "## INPUT\n",
    "\n",
    "### 6, [7,10]\n",
    "\n",
    "## OUTPUT\n",
    "\n",
    "### 28"
   ]
  },
  {
   "cell_type": "code",
   "execution_count": null,
   "id": "0e2907ee",
   "metadata": {},
   "outputs": [],
   "source": [
    "## Programmers Lv.3\n",
    "def solution(n, times):\n",
    "    answer = 0\n",
    "    return answer"
   ]
  }
 ],
 "metadata": {
  "kernelspec": {
   "display_name": "Python 3 (ipykernel)",
   "language": "python",
   "name": "python3"
  },
  "language_info": {
   "codemirror_mode": {
    "name": "ipython",
    "version": 3
   },
   "file_extension": ".py",
   "mimetype": "text/x-python",
   "name": "python",
   "nbconvert_exporter": "python",
   "pygments_lexer": "ipython3",
   "version": "3.9.7"
  }
 },
 "nbformat": 4,
 "nbformat_minor": 5
}
