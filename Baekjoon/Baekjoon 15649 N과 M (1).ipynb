{
 "cells": [
  {
   "cell_type": "markdown",
   "id": "d545db65",
   "metadata": {},
   "source": [
    "# Baekjoon 15649\n",
    "\n",
    "## N과 M (1)\n",
    "\n",
    "### 자연수 N과 M이 주어졌을 때, 아래 조건을 만족하는 길이가 M인 수열을 모두 구하는 프로그램을 작성하시오.\n",
    "\n",
    "### 1부터 N까지 자연수 중에서 중복 없이 M개를 고른 수열\n",
    "\n",
    "## INPUT\n",
    "\n",
    "### 첫째 줄에 자연수 N과 M이 주어진다. (1 ≤ M ≤ N ≤ 8)\n",
    "\n",
    "## OUTPUT\n",
    "\n",
    "### 한 줄에 하나씩 문제의 조건을 만족하는 수열을 출력한다. \n",
    "\n",
    "### 중복되는 수열을 여러 번 출력하면 안되며, 각 수열은 공백으로 구분해서 출력해야 한다.\n",
    "\n",
    "### 수열은 사전 순으로 증가하는 순서로 출력해야 한다."
   ]
  },
  {
   "cell_type": "code",
   "execution_count": null,
   "id": "763c433f",
   "metadata": {},
   "outputs": [],
   "source": [
    "## Baekjoon 15649\n",
    "n,m = list(map(int,input().split()))\n",
    " \n",
    "s = []\n",
    " \n",
    "def dfs():\n",
    "    if len(s)==m:\n",
    "        print(' '.join(map(str,s)))\n",
    "        return\n",
    "    \n",
    "    for i in range(1,n+1):\n",
    "        if i not in s:\n",
    "            s.append(i)\n",
    "            dfs()\n",
    "            s.pop()\n",
    " \n",
    "dfs()"
   ]
  }
 ],
 "metadata": {
  "kernelspec": {
   "display_name": "Python 3",
   "language": "python",
   "name": "python3"
  },
  "language_info": {
   "codemirror_mode": {
    "name": "ipython",
    "version": 3
   },
   "file_extension": ".py",
   "mimetype": "text/x-python",
   "name": "python",
   "nbconvert_exporter": "python",
   "pygments_lexer": "ipython3",
   "version": "3.8.8"
  }
 },
 "nbformat": 4,
 "nbformat_minor": 5
}
