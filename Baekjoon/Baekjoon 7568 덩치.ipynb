{
 "cells": [
  {
   "cell_type": "markdown",
   "id": "d069ac80",
   "metadata": {},
   "source": [
    "# Baekjoon 7568\n",
    "\n",
    "## 덩치\n",
    "\n",
    "### 우리는 사람의 덩치를 키와 몸무게, 이 두 개의 값으로 표현하여 그 등수를 매겨보려고 한다. \n",
    "\n",
    "### 어떤 사람의 몸무게가 x kg이고 키가 y cm라면 이 사람의 덩치는 (x, y)로 표시된다. \n",
    "\n",
    "### 두 사람 A 와 B의 덩치가 각각 (x, y), (p, q)라고 할 때 x > p 그리고 y > q 이라면 \n",
    "\n",
    "### 우리는 A의 덩치가 B의 덩치보다 \"더 크다\"고 말한다. 예를 들어 어떤 A, B 두 사람의 덩치가 각각 (56, 177), (45, 165) 라고 한다면 \n",
    "\n",
    "### A의 덩치가 B보다 큰 셈이 된다. 그런데 서로 다른 덩치끼리 크기를 정할 수 없는 경우도 있다. \n",
    "\n",
    "### 예를 들어 두 사람 C와 D의 덩치가 각각 (45, 181), (55, 173)이라면 몸무게는 D가 C보다 더 무겁고, \n",
    "\n",
    "### 키는 C가 더 크므로, \"덩치\"로만 볼 때 C와 D는 누구도 상대방보다 더 크다고 말할 수 없다.\n",
    "\n",
    "### N명의 집단에서 각 사람의 덩치 등수는 자신보다 더 \"큰 덩치\"의 사람의 수로 정해진다. \n",
    "\n",
    "### 만일 자신보다 더 큰 덩치의 사람이 k명이라면 그 사람의 덩치 등수는 k+1이 된다. \n",
    "\n",
    "### 이렇게 등수를 결정하면 같은 덩치 등수를 가진 사람은 여러 명도 가능하다. \n",
    "\n",
    "### 여러분은 학생 N명의 몸무게와 키가 담긴 입력을 읽어서 각 사람의 덩치 등수를 계산하여 출력해야 한다.\n",
    "\n",
    "## INPUT\n",
    "\n",
    "### 첫 줄에는 전체 사람의 수 N이 주어진다. 그리고 이어지는 N개의 줄에는 \n",
    "\n",
    "### 각 사람의 몸무게와 키를 나타내는 양의 정수 x와 y가 하나의 공백을 두고 각각 나타난다.\n",
    "\n",
    "## OUTPUT\n",
    "\n",
    "### 여러분은 입력에 나열된 사람의 덩치 등수를 구해서 그 순서대로 첫 줄에 출력해야 한다. \n",
    "\n",
    "### 단, 각 덩치 등수는 공백문자로 분리되어야 한다."
   ]
  },
  {
   "cell_type": "code",
   "execution_count": null,
   "id": "b90fc808",
   "metadata": {},
   "outputs": [],
   "source": [
    "## Baekjoon 7568\n",
    "N = int(input())\n",
    "\n",
    "x, y = [] ,[]\n",
    "result = []\n",
    "\n",
    "for _ in range(N):\n",
    "    w, h = map(int, input().split())\n",
    "    \n",
    "    x.append(w)\n",
    "    y.append(h)\n",
    "\n",
    "for i in range(N):\n",
    "    r = 1\n",
    "    \n",
    "    for j in range(N):\n",
    "        if x[i] < x [j] and y[i] < y[j]:\n",
    "            r += 1\n",
    "            \n",
    "    print(r, end = ' ')"
   ]
  }
 ],
 "metadata": {
  "kernelspec": {
   "display_name": "Python 3 (ipykernel)",
   "language": "python",
   "name": "python3"
  },
  "language_info": {
   "codemirror_mode": {
    "name": "ipython",
    "version": 3
   },
   "file_extension": ".py",
   "mimetype": "text/x-python",
   "name": "python",
   "nbconvert_exporter": "python",
   "pygments_lexer": "ipython3",
   "version": "3.9.7"
  }
 },
 "nbformat": 4,
 "nbformat_minor": 5
}
