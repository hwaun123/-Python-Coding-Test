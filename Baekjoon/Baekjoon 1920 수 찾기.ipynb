{
 "cells": [
  {
   "cell_type": "markdown",
   "id": "1746edc6",
   "metadata": {},
   "source": [
    "# Baekjoon 1920\n",
    "\n",
    "## 수 찾기\n",
    "\n",
    "### N개의 정수 A[1], A[2], …, A[N]이 주어져 있을 때, 이 안에 X라는 정수가 \n",
    "\n",
    "### 존재하는지 알아내는 프로그램을 작성하시오.\n",
    "\n",
    "## INPUT\n",
    "\n",
    "### 첫째 줄에 자연수 N(1 ≤ N ≤ 100,000)이 주어진다. 다음 줄에는 N개의 정수 A[1], A[2], …, A[N]이 주어진다. \n",
    "\n",
    "### 다음 줄에는 M(1 ≤ M ≤ 100,000)이 주어진다. 다음 줄에는 M개의 수들이 주어지는데, \n",
    "\n",
    "### 이 수들이 A안에 존재하는지 알아내면 된다. 모든 정수의 범위는 -231 보다 크거나 같고 231보다 작다.\n",
    "\n",
    "## OUTPUT\n",
    "\n",
    "### M개의 줄에 답을 출력한다. 존재하면 1을, 존재하지 않으면 0을 출력한다."
   ]
  },
  {
   "cell_type": "code",
   "execution_count": null,
   "id": "b7caecba",
   "metadata": {},
   "outputs": [],
   "source": [
    "## Baekjoon 1920\n",
    "def Quick_Sort(lst):\n",
    "    if len(lst) < 2:\n",
    "        return lst\n",
    "    \n",
    "    pivot = lst[len(lst) // 2]\n",
    "    \n",
    "    left, mid, right = [], [], []\n",
    "    \n",
    "    for n in lst:\n",
    "        if n == pivot:\n",
    "            mid.append(n)\n",
    "        elif n < pivot:\n",
    "            left.append(n)\n",
    "        else:\n",
    "            right.append(n)\n",
    "            \n",
    "    return Quick_Sort(left) + mid + Quick_Sort(right)\n",
    "\n",
    "def Binary_Search(lst, target):\n",
    "    left, right = 0, len(lst) - 1\n",
    "    \n",
    "    while left <= right:\n",
    "        mid = (left + right) // 2\n",
    "        if target == lst[mid]:\n",
    "            return 1\n",
    "        elif target < lst[mid]:\n",
    "            right = mid - 1\n",
    "        elif target > lst[mid]:\n",
    "            left = mid + 1\n",
    "    return 0\n",
    "\n",
    "N = int(input())\n",
    "lstA = list(map(int, input().split()))\n",
    "M = int(input())\n",
    "lstM = list(map(int, input().split()))\n",
    "\n",
    "lstA = Quick_Sort(lstA)\n",
    "\n",
    "for i in lstM:\n",
    "    print(Binary_Search(lstA, i))"
   ]
  }
 ],
 "metadata": {
  "kernelspec": {
   "display_name": "Python 3",
   "language": "python",
   "name": "python3"
  },
  "language_info": {
   "codemirror_mode": {
    "name": "ipython",
    "version": 3
   },
   "file_extension": ".py",
   "mimetype": "text/x-python",
   "name": "python",
   "nbconvert_exporter": "python",
   "pygments_lexer": "ipython3",
   "version": "3.8.8"
  }
 },
 "nbformat": 4,
 "nbformat_minor": 5
}
