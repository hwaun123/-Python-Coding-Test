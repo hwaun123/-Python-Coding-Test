{
 "cells": [
  {
   "cell_type": "markdown",
   "id": "4e88ab93",
   "metadata": {},
   "source": [
    "# Baekjoon 2839\n",
    "\n",
    "## 설탕 배달\n",
    "\n",
    "### 상근이는 요즘 설탕공장에서 설탕을 배달하고 있다. \n",
    "\n",
    "### 상근이는 지금 사탕가게에 설탕을 정확하게 N킬로그램을 배달해야 한다. \n",
    "\n",
    "### 설탕공장에서 만드는 설탕은 봉지에 담겨져 있다. \n",
    "\n",
    "### 봉지는 3킬로그램 봉지와 5킬로그램 봉지가 있다.\n",
    "\n",
    "### 상근이는 귀찮기 때문에, 최대한 적은 봉지를 들고 가려고 한다. \n",
    "\n",
    "### 예를 들어, 18킬로그램 설탕을 배달해야 할 때, 3킬로그램 봉지 6개를 가져가도 되지만, \n",
    "\n",
    "### 5킬로그램 3개와 3킬로그램 1개를 배달하면, 더 적은 개수의 봉지를 배달할 수 있다.\n",
    "\n",
    "### 상근이가 설탕을 정확하게 N킬로그램 배달해야 할 때, 봉지 몇 개를 가져가면 되는지 \n",
    "\n",
    "### 그 수를 구하는 프로그램을 작성하시오.\n",
    "\n",
    "## INPUT\n",
    "\n",
    "### 첫째 줄에 N이 주어진다. (3 ≤ N ≤ 5000)\n",
    "\n",
    "## OUTPUT\n",
    "\n",
    "### 상근이가 배달하는 봉지의 최소 개수를 출력한다. \n",
    "\n",
    "### 만약, 정확하게 N킬로그램을 만들 수 없다면 -1을 출력한다."
   ]
  },
  {
   "cell_type": "code",
   "execution_count": 9,
   "id": "d92c1e8a",
   "metadata": {},
   "outputs": [
    {
     "name": "stdout",
     "output_type": "stream",
     "text": [
      "4\n",
      "-1\n",
      "9999\n"
     ]
    }
   ],
   "source": [
    "## Baekjoon 2839\n",
    "\n",
    "N = int(input())\n",
    "\n",
    "result = 9999\n",
    "\n",
    "for i in range(N // 5 + 1):\n",
    "    for j in range(N // 3 + 1):\n",
    "        if 5 * i + 3 * j == N:\n",
    "            if result > i + j:\n",
    "                result = i + j\n",
    "if result == 9999:\n",
    "    print(-1)\n",
    "else:\n",
    "    print(result)"
   ]
  }
 ],
 "metadata": {
  "kernelspec": {
   "display_name": "Python 3",
   "language": "python",
   "name": "python3"
  },
  "language_info": {
   "codemirror_mode": {
    "name": "ipython",
    "version": 3
   },
   "file_extension": ".py",
   "mimetype": "text/x-python",
   "name": "python",
   "nbconvert_exporter": "python",
   "pygments_lexer": "ipython3",
   "version": "3.8.8"
  }
 },
 "nbformat": 4,
 "nbformat_minor": 5
}
