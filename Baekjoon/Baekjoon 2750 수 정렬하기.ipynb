{
 "cells": [
  {
   "cell_type": "markdown",
   "id": "444bcaee",
   "metadata": {},
   "source": [
    "# Baekjoon 2750\n",
    "\n",
    "## 수 정렬하기\n",
    "\n",
    "### N개의 수가 주어졌을 때, 이를 오름차순으로 정렬하는 프로그램을 작성하시오.\n",
    "\n",
    "## INPUT\n",
    "\n",
    "### 첫째 줄에 수의 개수 N(1 ≤ N ≤ 1,000)이 주어진다. 둘째 줄부터 N개의 줄에는 수 주어진다. \n",
    "\n",
    "### 이 수는 절댓값이 1,000보다 작거나 같은 정수이다. 수는 중복되지 않는다.\n",
    "\n",
    "## OUTPUT\n",
    "\n",
    "### 첫째 줄부터 N개의 줄에 오름차순으로 정렬한 결과를 한 줄에 하나씩 출력한다."
   ]
  },
  {
   "cell_type": "code",
   "execution_count": null,
   "id": "120b598f",
   "metadata": {},
   "outputs": [],
   "source": [
    "## Baekjoon 2750\n",
    "N = int(input())\n",
    "\n",
    "numList = []\n",
    "for i in range(N):\n",
    "    n = int(input())\n",
    "    numList.append(n)\n",
    "\n",
    "for i in range(N - 1, 0, -1):\n",
    "    for j in range(i):\n",
    "        if numList[j] > numList[j + 1]:\n",
    "            numList[j + 1], numList[j] = numList[j], numList[j + 1]\n",
    "\n",
    "for i in range(N):\n",
    "    print(numList[i])"
   ]
  }
 ],
 "metadata": {
  "kernelspec": {
   "display_name": "Python 3 (ipykernel)",
   "language": "python",
   "name": "python3"
  },
  "language_info": {
   "codemirror_mode": {
    "name": "ipython",
    "version": 3
   },
   "file_extension": ".py",
   "mimetype": "text/x-python",
   "name": "python",
   "nbconvert_exporter": "python",
   "pygments_lexer": "ipython3",
   "version": "3.9.7"
  }
 },
 "nbformat": 4,
 "nbformat_minor": 5
}
