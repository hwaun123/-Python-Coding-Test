{
 "cells": [
  {
   "cell_type": "markdown",
   "id": "0bf3bedb",
   "metadata": {},
   "source": [
    "# Baekjoon 11866\n",
    "\n",
    "## 요세푸스 문제 0\n",
    "\n",
    "### 요세푸스 문제는 다음과 같다.\n",
    "\n",
    "### 1번부터 N번까지 N명의 사람이 원을 이루면서 앉아있고, 양의 정수 K(≤ N)가 주어진다. \n",
    "\n",
    "### 이제 순서대로 K번째 사람을 제거한다. 한 사람이 제거되면 남은 사람들로 이루어진 원을 따라 이 과정을 계속해 나간다. \n",
    "\n",
    "### 이 과정은 N명의 사람이 모두 제거될 때까지 계속된다. \n",
    "\n",
    "### 원에서 사람들이 제거되는 순서를 (N, K)-요세푸스 순열이라고 한다. 예를 들어 (7, 3)-요세푸스 순열은 <3, 6, 2, 7, 5, 1, 4>이다.\n",
    "\n",
    "### N과 K가 주어지면 (N, K)-요세푸스 순열을 구하는 프로그램을 작성하시오.\n",
    "\n",
    "## INPUT\n",
    "\n",
    "### 첫째 줄에 N과 K가 빈 칸을 사이에 두고 순서대로 주어진다. (1 ≤ K ≤ N ≤ 1,000)\n",
    "\n",
    "## OUTPUT\n",
    "\n",
    "### 요세푸스 순열을 출력한다."
   ]
  },
  {
   "cell_type": "code",
   "execution_count": null,
   "id": "03505212",
   "metadata": {},
   "outputs": [],
   "source": []
  }
 ],
 "metadata": {
  "kernelspec": {
   "display_name": "Python 3 (ipykernel)",
   "language": "python",
   "name": "python3"
  },
  "language_info": {
   "codemirror_mode": {
    "name": "ipython",
    "version": 3
   },
   "file_extension": ".py",
   "mimetype": "text/x-python",
   "name": "python",
   "nbconvert_exporter": "python",
   "pygments_lexer": "ipython3",
   "version": "3.9.7"
  }
 },
 "nbformat": 4,
 "nbformat_minor": 5
}
