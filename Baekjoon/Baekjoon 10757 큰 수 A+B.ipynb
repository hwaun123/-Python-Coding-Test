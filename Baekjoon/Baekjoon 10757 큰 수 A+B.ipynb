{
 "cells": [
  {
   "cell_type": "markdown",
   "id": "3062e30b",
   "metadata": {},
   "source": [
    "# Baekjoon 10757\n",
    "\n",
    "## 큰 수 A+B\n",
    "\n",
    "### 두 정수 A와 B를 입력받은 다음, A+B를 출력하는 프로그램을 작성하시오.\n",
    "\n",
    "## INPUT\n",
    "\n",
    "### 첫째 줄에 A와 B가 주어진다. (0 < A,B < 1010000)\n",
    "\n",
    "## OUTPUT\n",
    "\n",
    "### 첫째 줄에 A+B를 출력한다."
   ]
  },
  {
   "cell_type": "code",
   "execution_count": 1,
   "id": "541a0ccc",
   "metadata": {},
   "outputs": [
    {
     "name": "stdout",
     "output_type": "stream",
     "text": [
      "9223372036854775807 9223372036854775808\n",
      "18446744073709551615\n"
     ]
    }
   ],
   "source": [
    "## Baekjoon 10757\n",
    "A, B = map(int,input().split())\n",
    "\n",
    "print(A + B)"
   ]
  }
 ],
 "metadata": {
  "kernelspec": {
   "display_name": "Python 3",
   "language": "python",
   "name": "python3"
  },
  "language_info": {
   "codemirror_mode": {
    "name": "ipython",
    "version": 3
   },
   "file_extension": ".py",
   "mimetype": "text/x-python",
   "name": "python",
   "nbconvert_exporter": "python",
   "pygments_lexer": "ipython3",
   "version": "3.8.8"
  }
 },
 "nbformat": 4,
 "nbformat_minor": 5
}
