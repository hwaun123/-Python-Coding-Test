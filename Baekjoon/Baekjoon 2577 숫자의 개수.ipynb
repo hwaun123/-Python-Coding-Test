{
 "cells": [
  {
   "cell_type": "markdown",
   "id": "e318195e",
   "metadata": {},
   "source": [
    "# Baekjoon 2577\n",
    "\n",
    "## 숫자의 개수\n",
    "\n",
    "### 세 개의 자연수 A, B, C가 주어질 때 A × B × C를 계산한 결과에 0부터 9까지 각각의 숫자가 몇 번씩 쓰였는지를 \n",
    "\n",
    "### 구하는 프로그램을 작성하시오.\n",
    "\n",
    "### 예를 들어 A = 150, B = 266, C = 427 이라면 A × B × C = 150 × 266 × 427 = 17037300 이 되고, \n",
    "\n",
    "### 계산한 결과 17037300 에는 0이 3번, 1이 1번, 3이 2번, 7이 2번 쓰였다.\n",
    "\n",
    "## INPUT\n",
    "\n",
    "### 첫째 줄에 A, 둘째 줄에 B, 셋째 줄에 C가 주어진다. A, B, C는 모두 100보다 크거나 같고, \n",
    "\n",
    "### 1,000보다 작은 자연수이다.\n",
    "\n",
    "## OUTPUT\n",
    "\n",
    "### 첫째 줄에는 A × B × C의 결과에 0 이 몇 번 쓰였는지 출력한다. 마찬가지로 둘째 줄부터 열 번째 줄까지 \n",
    "\n",
    "### A × B × C의 결과에 1부터 9까지의 숫자가 각각 몇 번 쓰였는지 차례로 한 줄에 하나씩 출력한다."
   ]
  },
  {
   "cell_type": "code",
   "execution_count": null,
   "id": "3c31a7cc",
   "metadata": {},
   "outputs": [],
   "source": [
    "## Baekjoon 2577\n",
    "A = int(input())\n",
    "B = int(input())\n",
    "C = int(input())\n",
    "\n",
    "mult = str(A * B * C)\n",
    "\n",
    "numarr = ['0','1','2','3','4','5','6','7','8','9']\n",
    "cntarr = [0, 0, 0, 0, 0, 0, 0, 0, 0, 0]\n",
    "\n",
    "for i in mult:\n",
    "    for j in range(len(numarr)):\n",
    "        if i == numarr[j]:\n",
    "            cntarr[j] += 1\n",
    "for i in cntarr:\n",
    "    print(i)"
   ]
  }
 ],
 "metadata": {
  "kernelspec": {
   "display_name": "Python 3",
   "language": "python",
   "name": "python3"
  },
  "language_info": {
   "codemirror_mode": {
    "name": "ipython",
    "version": 3
   },
   "file_extension": ".py",
   "mimetype": "text/x-python",
   "name": "python",
   "nbconvert_exporter": "python",
   "pygments_lexer": "ipython3",
   "version": "3.8.8"
  }
 },
 "nbformat": 4,
 "nbformat_minor": 5
}
