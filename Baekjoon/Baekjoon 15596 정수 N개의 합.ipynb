{
 "cells": [
  {
   "cell_type": "markdown",
   "id": "8a4e43de",
   "metadata": {},
   "source": [
    "# Baekjoon 15596\n",
    "\n",
    "## 정수 N개의 합\n",
    "\n",
    "### 정수 n개가 주어졌을 때, n개의 합을 구하는 함수를 작성하시오.\n",
    "\n",
    "### 작성해야 하는 함수는 다음과 같다.\n",
    "\n",
    "### Python 2, Python 3, PyPy, PyPy3: def solve(a: list) -> int\n",
    "\n",
    "### a: 합을 구해야 하는 정수 n개가 저장되어 있는 리스트 (0 ≤ a[i] ≤ 1,000,000, 1 ≤ n ≤ 3,000,000)\n",
    "\n",
    "### 리턴값: a에 포함되어 있는 정수 n개의 합 (정수)"
   ]
  },
  {
   "cell_type": "code",
   "execution_count": null,
   "id": "3fe7aa16",
   "metadata": {},
   "outputs": [],
   "source": [
    "## Baekjoon 15596\n",
    "def solve(a):\n",
    "    ans = 0\n",
    "    for i in range(len(a)):\n",
    "        ans += a[i]\n",
    "    return ans"
   ]
  }
 ],
 "metadata": {
  "kernelspec": {
   "display_name": "Python 3",
   "language": "python",
   "name": "python3"
  },
  "language_info": {
   "codemirror_mode": {
    "name": "ipython",
    "version": 3
   },
   "file_extension": ".py",
   "mimetype": "text/x-python",
   "name": "python",
   "nbconvert_exporter": "python",
   "pygments_lexer": "ipython3",
   "version": "3.8.8"
  }
 },
 "nbformat": 4,
 "nbformat_minor": 5
}
