{
 "cells": [
  {
   "cell_type": "markdown",
   "id": "6d3522dc",
   "metadata": {},
   "source": [
    "# Baekjoon 2609\n",
    "\n",
    "## 최대공약수와 최소공배수\n",
    "\n",
    "### 두 개의 자연수를 입력받아 최대 공약수와 최소 공배수를 출력하는 프로그램을 작성하시오.\n",
    "\n",
    "## INPUT\n",
    "\n",
    "### 첫째 줄에는 두 개의 자연수가 주어진다. 이 둘은 10,000이하의 자연수이며 사이에 한 칸의 공백이 주어진다.\n",
    "\n",
    "## OUTPUT\n",
    "\n",
    "### 첫째 줄에는 입력으로 주어진 두 수의 최대공약수를, 둘째 줄에는 입력으로 주어진 두 수의 최소 공배수를 출력한다."
   ]
  },
  {
   "cell_type": "code",
   "execution_count": null,
   "id": "33b2ade7",
   "metadata": {},
   "outputs": [],
   "source": [
    "## Baekjoon 2609\n",
    "def GCD(M,N):\n",
    "    M, N = max(M,N), min(M,N)\n",
    "    \n",
    "    result = 0\n",
    "    for i in range(1, N + 1):\n",
    "        if M % i == 0 and N % i == 0 and i > result:\n",
    "            result = i\n",
    "    return result\n",
    "def LCM(M, N):\n",
    "    M, N = max(M,N), min(M,N)\n",
    "    \n",
    "    for i in range(M, M * N + 1, M):\n",
    "        if i % M == 0 and i % N == 0:\n",
    "            return i\n",
    "    return 0\n",
    "M, N = map(int,input().split())\n",
    "\n",
    "print(GCD(M,N))\n",
    "print(LCM(M,N))"
   ]
  }
 ],
 "metadata": {
  "kernelspec": {
   "display_name": "Python 3",
   "language": "python",
   "name": "python3"
  },
  "language_info": {
   "codemirror_mode": {
    "name": "ipython",
    "version": 3
   },
   "file_extension": ".py",
   "mimetype": "text/x-python",
   "name": "python",
   "nbconvert_exporter": "python",
   "pygments_lexer": "ipython3",
   "version": "3.8.8"
  }
 },
 "nbformat": 4,
 "nbformat_minor": 5
}
