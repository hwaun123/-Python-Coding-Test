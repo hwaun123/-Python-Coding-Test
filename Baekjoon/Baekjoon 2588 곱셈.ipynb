{
 "cells": [
  {
   "cell_type": "markdown",
   "id": "154496e8",
   "metadata": {},
   "source": [
    "# Baekjoon 2588\n",
    "\n",
    "## 곱셈\n",
    "\n",
    "### (세 자리 수) × (세 자리 수)는 다음과 같은 과정을 통하여 이루어진다.\n",
    "\n",
    "![ex_screenshot](https://www.acmicpc.net/upload/images/f5NhGHVLM4Ix74DtJrwfC97KepPl27s%20(1).png)\n",
    "\n",
    "### (1)과 (2)위치에 들어갈 세 자리 자연수가 주어질 때 (3), (4), (5), (6)\n",
    "\n",
    "### 위치에 들어갈 값을 구하는 프로그램을 작성하시오.\n",
    "\n",
    "## INPUT\n",
    "\n",
    "### 첫째 줄에 (1)의 위치에 들어갈 세 자리 자연수가, 둘째 줄에 (2)의 위치에 들어갈 세자리 자연수가 주어진다.\n",
    "\n",
    "## OUTPUT\n",
    "\n",
    "### 첫째 줄부터 넷째 줄까지 차례대로 (3), (4), (5), (6)에 들어갈 값을 출력한다."
   ]
  },
  {
   "cell_type": "code",
   "execution_count": null,
   "id": "c035964b",
   "metadata": {},
   "outputs": [],
   "source": [
    "## Baekjoon 2588\n",
    "A = input()\n",
    "B = input()\n",
    "\n",
    "a1, a2, a3 = int(A[2]), int(A[1]) * 10, int(A[0]) * 100\n",
    "b1, b2, b3 = int(B[2]), int(B[1]), int(B[0])\n",
    "\n",
    "print(b1 * a1 + b1 * a2 + b1 * a3)\n",
    "print(b2 * a1 + b2 * a2 + b2 * a3)\n",
    "print(b3 * a1 + b3 * a2 + b3 * a3)\n",
    "print(int(A) * int(B))"
   ]
  }
 ],
 "metadata": {
  "kernelspec": {
   "display_name": "Python 3",
   "language": "python",
   "name": "python3"
  },
  "language_info": {
   "codemirror_mode": {
    "name": "ipython",
    "version": 3
   },
   "file_extension": ".py",
   "mimetype": "text/x-python",
   "name": "python",
   "nbconvert_exporter": "python",
   "pygments_lexer": "ipython3",
   "version": "3.8.8"
  }
 },
 "nbformat": 4,
 "nbformat_minor": 5
}
