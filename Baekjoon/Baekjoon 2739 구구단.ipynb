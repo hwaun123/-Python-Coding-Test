{
 "cells": [
  {
   "cell_type": "markdown",
   "id": "d8580bac",
   "metadata": {},
   "source": [
    "# Baekjoon 2793\n",
    "\n",
    "## 구구단 \n",
    "\n",
    "### N을 입력받은 뒤, 구구단 N단을 출력하는 프로그램을 작성하시오. 출력 형식에 맞춰서 출력하면 된다.\n",
    "\n",
    "## INPUT\n",
    "\n",
    "### 첫째 줄에 N이 주어진다. N은 1보다 크거나 같고, 9보다 작거나 같다.\n",
    "\n",
    "## OUTPUT\n",
    "\n",
    "### 출력형식과 같게 N*1부터 N*9까지 출력한다."
   ]
  },
  {
   "cell_type": "code",
   "execution_count": null,
   "id": "ac66c230",
   "metadata": {},
   "outputs": [],
   "source": [
    "## Baekjoon 2793\n",
    "N = int(input())\n",
    "\n",
    "for i in range(1, 9 + 1):\n",
    "    print(N, '*', i, '=', N * i)"
   ]
  }
 ],
 "metadata": {
  "kernelspec": {
   "display_name": "Python 3",
   "language": "python",
   "name": "python3"
  },
  "language_info": {
   "codemirror_mode": {
    "name": "ipython",
    "version": 3
   },
   "file_extension": ".py",
   "mimetype": "text/x-python",
   "name": "python",
   "nbconvert_exporter": "python",
   "pygments_lexer": "ipython3",
   "version": "3.8.8"
  }
 },
 "nbformat": 4,
 "nbformat_minor": 5
}
