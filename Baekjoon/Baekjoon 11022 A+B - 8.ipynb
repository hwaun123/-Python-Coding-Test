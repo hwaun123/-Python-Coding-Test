{
 "cells": [
  {
   "cell_type": "markdown",
   "id": "7f9a09d6",
   "metadata": {},
   "source": [
    "# Baekjoon 11022\n",
    "\n",
    "## A+B - 8\n",
    "\n",
    "### 두 정수 A와 B를 입력받은 다음, A+B를 출력하는 프로그램을 작성하시오.\n",
    "\n",
    "## INPUT\n",
    "\n",
    "### 첫째 줄에 테스트 케이스의 개수 T가 주어진다.\n",
    "\n",
    "### 각 테스트 케이스는 한 줄로 이루어져 있으며, 각 줄에 A와 B가 주어진다. (0 < A, B < 10)\n",
    "\n",
    "## OUTPUT\n",
    "\n",
    "### 각 테스트 케이스마다 \"Case #x: A + B = C\" 형식으로 출력한다. \n",
    "\n",
    "### x는 테스트 케이스 번호이고 1부터 시작하며, C는 A+B이다."
   ]
  },
  {
   "cell_type": "code",
   "execution_count": null,
   "id": "29a5ae42",
   "metadata": {},
   "outputs": [],
   "source": [
    "## Baekjoon 11022\n",
    "T = int(input())\n",
    "\n",
    "for i in range(1, T + 1):\n",
    "    A, B = map(int,input().split())\n",
    "    \n",
    "    print('Case ', '#', i, ': ', A, ' + ', B, ' = ', A + B, sep = '')"
   ]
  }
 ],
 "metadata": {
  "kernelspec": {
   "display_name": "Python 3",
   "language": "python",
   "name": "python3"
  },
  "language_info": {
   "codemirror_mode": {
    "name": "ipython",
    "version": 3
   },
   "file_extension": ".py",
   "mimetype": "text/x-python",
   "name": "python",
   "nbconvert_exporter": "python",
   "pygments_lexer": "ipython3",
   "version": "3.8.8"
  }
 },
 "nbformat": 4,
 "nbformat_minor": 5
}
