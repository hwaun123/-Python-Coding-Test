{
 "cells": [
  {
   "cell_type": "markdown",
   "id": "34bfe935",
   "metadata": {},
   "source": [
    "# Baekjoon 1929\n",
    "\n",
    "## 소수 구하기\n",
    "\n",
    "### M이상 N이하의 소수를 모두 출력하는 프로그램을 작성하시오.\n",
    "\n",
    "## INPUT\n",
    "\n",
    "### 첫째 줄에 자연수 M과 N이 빈 칸을 사이에 두고 주어진다. (1 ≤ M ≤ N ≤ 1,000,000) \n",
    "\n",
    "### M이상 N이하의 소수가 하나 이상 있는 입력만 주어진다.\n",
    "\n",
    "## OUTPUT\n",
    "\n",
    "### 한 줄에 하나씩, 증가하는 순서대로 소수를 출력한다."
   ]
  },
  {
   "cell_type": "code",
   "execution_count": null,
   "id": "86c52dab",
   "metadata": {},
   "outputs": [],
   "source": [
    "## Baekjoon 1929\n",
    "import math\n",
    "\n",
    "def Prime_Num(n):\n",
    "    if n == 1:\n",
    "        return False\n",
    "    \n",
    "    hn = int(math.sqrt(n))\n",
    "    \n",
    "    for i in range(2,hn + 1):\n",
    "        if n % i == 0:\n",
    "            return False\n",
    "    return True\n",
    "\n",
    "M, N = map(int,input().split())\n",
    "\n",
    "for i in range(M,N + 1):\n",
    "    if Prime_Num(i):\n",
    "        print(i)"
   ]
  }
 ],
 "metadata": {
  "kernelspec": {
   "display_name": "Python 3",
   "language": "python",
   "name": "python3"
  },
  "language_info": {
   "codemirror_mode": {
    "name": "ipython",
    "version": 3
   },
   "file_extension": ".py",
   "mimetype": "text/x-python",
   "name": "python",
   "nbconvert_exporter": "python",
   "pygments_lexer": "ipython3",
   "version": "3.8.8"
  }
 },
 "nbformat": 4,
 "nbformat_minor": 5
}
