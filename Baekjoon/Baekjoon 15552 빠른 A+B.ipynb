{
 "cells": [
  {
   "cell_type": "markdown",
   "id": "106ddf62",
   "metadata": {},
   "source": [
    "# Baekjoon 15552\n",
    "\n",
    "## 빠른 A+B\n",
    "\n",
    "### 본격적으로 for문 문제를 풀기 전에 주의해야 할 점이 있다. \n",
    "\n",
    "### 입출력 방식이 느리면 여러 줄을 입력받거나 출력할 때 시간초과가 날 수 있다는 점이다.\n",
    "\n",
    "### C++을 사용하고 있고 cin/cout을 사용하고자 한다면, cin.tie(NULL)과 sync_with_stdio(false)를 둘 다 적용해 주고,\n",
    "\n",
    "### endl 대신 개행문자(\\n)를 쓰자. 단, 이렇게 하면 더 이상 scanf/printf/puts/getchar/putchar 등\n",
    "\n",
    "### C의 입출력 방식을 사용하면 안 된다.\n",
    "\n",
    "### Java를 사용하고 있다면, Scanner와 System.out.println 대신 BufferedReader와 BufferedWriter를 사용할 수 있다.\n",
    "\n",
    "### BufferedWriter.flush는 맨 마지막에 한 번만 하면 된다.\n",
    "\n",
    "### Python을 사용하고 있다면, input 대신 sys.stdin.readline을 사용할 수 있다. \n",
    "\n",
    "### 단, 이때는 맨 끝의 개행문자까지 같이 입력받기 때문에 문자열을 저장하고 싶을 경우 \n",
    "\n",
    "### .rstrip()을 추가로 해 주는 것이 좋다.\n",
    "\n",
    "### 또한 입력과 출력 스트림은 별개이므로, 테스트케이스를 전부 입력받아서 저장한 뒤 전부 출력할 필요는 없다. \n",
    "\n",
    "### 테스트케이스를 하나 받은 뒤 하나 출력해도 된다.\n",
    "\n",
    "## INPUT\n",
    "\n",
    "### 첫 줄에 테스트케이스의 개수 T가 주어진다. T는 최대 1,000,000이다. \n",
    "\n",
    "### 다음 T줄에는 각각 두 정수 A와 B가 주어진다. A와 B는 1 이상, 1,000 이하이다.\n",
    "\n",
    "## OUTPUT\n",
    "\n",
    "### 각 테스트케이스마다 A+B를 한 줄에 하나씩 순서대로 출력한다."
   ]
  },
  {
   "cell_type": "code",
   "execution_count": null,
   "id": "0c2aec2e",
   "metadata": {},
   "outputs": [],
   "source": [
    "## Baekjoon 15552\n",
    "import sys\n",
    "\n",
    "T = int(sys.stdin.readline())\n",
    "\n",
    "for _ in range(T):\n",
    "    A, B = map(int, sys.stdin.readline().split())\n",
    "    print(A + B)"
   ]
  }
 ],
 "metadata": {
  "kernelspec": {
   "display_name": "Python 3",
   "language": "python",
   "name": "python3"
  },
  "language_info": {
   "codemirror_mode": {
    "name": "ipython",
    "version": 3
   },
   "file_extension": ".py",
   "mimetype": "text/x-python",
   "name": "python",
   "nbconvert_exporter": "python",
   "pygments_lexer": "ipython3",
   "version": "3.8.8"
  }
 },
 "nbformat": 4,
 "nbformat_minor": 5
}
