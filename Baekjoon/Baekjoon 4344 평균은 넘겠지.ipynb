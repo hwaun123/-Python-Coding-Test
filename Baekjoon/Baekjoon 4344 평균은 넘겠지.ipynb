{
 "cells": [
  {
   "cell_type": "markdown",
   "id": "774b359c",
   "metadata": {},
   "source": [
    "# Baekjoon 4344\n",
    "\n",
    "## 평균은 넘겠지\n",
    "\n",
    "### 대학생 새내기들의 90%는 자신이 반에서 평균은 넘는다고 생각한다. 당신은 그들에게 슬픈 진실을 알려줘야 한다.\n",
    "\n",
    "## INPUT\n",
    "\n",
    "### 첫째 줄에는 테스트 케이스의 개수 C가 주어진다.\n",
    "\n",
    "### 둘째 줄부터 각 테스트 케이스마다 학생의 수 N(1 ≤ N ≤ 1000, N은 정수)이 첫 수로 주어지고, \n",
    "\n",
    "### 이어서 N명의 점수가 주어진다. 점수는 0보다 크거나 같고, 100보다 작거나 같은 정수이다.\n",
    "\n",
    "## OUTPUT\n",
    "\n",
    "### 각 케이스마다 한 줄씩 평균을 넘는 학생들의 비율을 반올림하여 소수점 셋째 자리까지 출력한다."
   ]
  },
  {
   "cell_type": "code",
   "execution_count": null,
   "id": "9772a587",
   "metadata": {},
   "outputs": [],
   "source": [
    "## Baekjoon 4344\n",
    "C = int(input())\n",
    "\n",
    "for _ in range(C):\n",
    "    arr = list(map(int, input().split()))\n",
    "    \n",
    "    avg = sum(arr[1:]) / arr[0]\n",
    "    \n",
    "    avgOver = 0\n",
    "    \n",
    "    for i in range(1, len(arr)):\n",
    "        if arr[i] > avg:\n",
    "            avgOver += 1\n",
    "    print(format(round(avgOver / arr[0] * 100, 3), '.3f'), '%', sep = '')"
   ]
  }
 ],
 "metadata": {
  "kernelspec": {
   "display_name": "Python 3",
   "language": "python",
   "name": "python3"
  },
  "language_info": {
   "codemirror_mode": {
    "name": "ipython",
    "version": 3
   },
   "file_extension": ".py",
   "mimetype": "text/x-python",
   "name": "python",
   "nbconvert_exporter": "python",
   "pygments_lexer": "ipython3",
   "version": "3.8.8"
  }
 },
 "nbformat": 4,
 "nbformat_minor": 5
}
