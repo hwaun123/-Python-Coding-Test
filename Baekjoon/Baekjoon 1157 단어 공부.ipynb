{
 "cells": [
  {
   "cell_type": "markdown",
   "id": "d27c71d3",
   "metadata": {},
   "source": [
    "# Baekjoon 1157\n",
    "\n",
    "## 단어 공부\n",
    "\n",
    "### 알파벳 대소문자로 된 단어가 주어지면,\n",
    "\n",
    "### 이 단어에서 가장 많이 사용된 알파벳이 무엇인지 알아내는 프로그램을 작성하시오. \n",
    "\n",
    "### 단, 대문자와 소문자를 구분하지 않는다.\n",
    "\n",
    "## INPUT\n",
    "\n",
    "### 첫째 줄에 알파벳 대소문자로 이루어진 단어가 주어진다. 주어지는 단어의 길이는 1,000,000을 넘지 않는다.\n",
    "\n",
    "## OUTPUT\n",
    "\n",
    "### 첫째 줄에 이 단어에서 가장 많이 사용된 알파벳을 대문자로 출력한다. \n",
    "\n",
    "### 단, 가장 많이 사용된 알파벳이 여러 개 존재하는 경우에는 ?를 출력한다."
   ]
  },
  {
   "cell_type": "code",
   "execution_count": null,
   "id": "9cb4431b",
   "metadata": {},
   "outputs": [],
   "source": [
    "## Baekjoon 1157\n",
    "upper = 'ABCDEFGHIJKLMNOPQRSTUVWXYZ'\n",
    "lower = 'abcdefghijklmnopqrstuvwxyz'\n",
    "\n",
    "cnt = [0 for _ in range(26)]\n",
    "s = input()\n",
    "\n",
    "for i in range(len(s)):\n",
    "    for j in range(len(upper)):\n",
    "        if s[i] == upper[j] or s[i] == lower[j]:\n",
    "            cnt[j] += 1\n",
    "\n",
    "m = max(cnt)\n",
    "c = cnt.count(m)\n",
    "\n",
    "if c > 1:\n",
    "    print('?')\n",
    "else:\n",
    "    print(upper[cnt.index(m)])"
   ]
  }
 ],
 "metadata": {
  "kernelspec": {
   "display_name": "Python 3",
   "language": "python",
   "name": "python3"
  },
  "language_info": {
   "codemirror_mode": {
    "name": "ipython",
    "version": 3
   },
   "file_extension": ".py",
   "mimetype": "text/x-python",
   "name": "python",
   "nbconvert_exporter": "python",
   "pygments_lexer": "ipython3",
   "version": "3.8.8"
  }
 },
 "nbformat": 4,
 "nbformat_minor": 5
}
