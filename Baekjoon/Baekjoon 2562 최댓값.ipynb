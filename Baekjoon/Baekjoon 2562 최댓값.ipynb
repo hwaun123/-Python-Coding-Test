{
 "cells": [
  {
   "cell_type": "markdown",
   "id": "e5fb3780",
   "metadata": {},
   "source": [
    "# Baekjoon 2562\n",
    "\n",
    "## 최댓값\n",
    "\n",
    "### 9개의 서로 다른 자연수가 주어질 때, 이들 중 최댓값을 찾고 그 최댓값이 몇 번째 수인지를 \n",
    "\n",
    "### 구하는 프로그램을 작성하시오.\n",
    "\n",
    "### 예를 들어, 서로 다른 9개의 자연수\n",
    "\n",
    "### 3, 29, 38, 12, 57, 74, 40, 85, 61\n",
    "\n",
    "### 이 주어지면, 이들 중 최댓값은 85이고, 이 값은 8번째 수이다.\n",
    "\n",
    "## INPUT\n",
    "\n",
    "### 첫째 줄부터 아홉 번째 줄까지 한 줄에 하나의 자연수가 주어진다. 주어지는 자연수는 100 보다 작다.\n",
    "\n",
    "## OUTPUT\n",
    "\n",
    "### 첫째 줄에 최댓값을 출력하고, 둘째 줄에 최댓값이 몇 번째 수인지를 출력한다."
   ]
  },
  {
   "cell_type": "code",
   "execution_count": null,
   "id": "b23e7a5a",
   "metadata": {},
   "outputs": [],
   "source": [
    "## Baekjoon 2562\n",
    "nlist = []\n",
    "\n",
    "for i in range(9):\n",
    "    nlist.append(int(input()))\n",
    "\n",
    "print(max(nlist),'\\n',nlist.index(max(nlist)) + 1, sep = '')"
   ]
  }
 ],
 "metadata": {
  "kernelspec": {
   "display_name": "Python 3",
   "language": "python",
   "name": "python3"
  },
  "language_info": {
   "codemirror_mode": {
    "name": "ipython",
    "version": 3
   },
   "file_extension": ".py",
   "mimetype": "text/x-python",
   "name": "python",
   "nbconvert_exporter": "python",
   "pygments_lexer": "ipython3",
   "version": "3.8.8"
  }
 },
 "nbformat": 4,
 "nbformat_minor": 5
}
