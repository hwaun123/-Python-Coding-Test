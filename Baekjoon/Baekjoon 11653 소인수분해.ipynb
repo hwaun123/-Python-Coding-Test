{
 "cells": [
  {
   "cell_type": "markdown",
   "id": "2696b6bf",
   "metadata": {},
   "source": [
    "# Baekjoon 11653\n",
    "\n",
    "## 소인수 분해\n",
    "\n",
    "### 정수 N이 주어졌을 때, 소인수분해하는 프로그램을 작성하시오.\n",
    "\n",
    "## INPUT\n",
    "\n",
    "### 첫째 줄에 정수 N (1 ≤ N ≤ 10,000,000)이 주어진다.\n",
    "\n",
    "## OUTPUT\n",
    "\n",
    "### N의 소인수분해 결과를 한 줄에 하나씩 오름차순으로 출력한다. N이 1인 경우 아무것도 출력하지 않는다."
   ]
  },
  {
   "cell_type": "code",
   "execution_count": null,
   "id": "ab929a81",
   "metadata": {},
   "outputs": [],
   "source": [
    "## Baekjoon 11653\n",
    "def factorization(N):\n",
    "    i = 2\n",
    "    \n",
    "    while N >= i:\n",
    "        if N % i == 0:\n",
    "            N = N / i\n",
    "            print(i)\n",
    "        else:\n",
    "            i += 1\n",
    "N = int(input())\n",
    "\n",
    "if N != 1:\n",
    "    factorization(N)"
   ]
  }
 ],
 "metadata": {
  "kernelspec": {
   "display_name": "Python 3",
   "language": "python",
   "name": "python3"
  },
  "language_info": {
   "codemirror_mode": {
    "name": "ipython",
    "version": 3
   },
   "file_extension": ".py",
   "mimetype": "text/x-python",
   "name": "python",
   "nbconvert_exporter": "python",
   "pygments_lexer": "ipython3",
   "version": "3.8.8"
  }
 },
 "nbformat": 4,
 "nbformat_minor": 5
}
