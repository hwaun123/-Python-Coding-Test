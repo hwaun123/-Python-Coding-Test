{
 "cells": [
  {
   "cell_type": "markdown",
   "id": "1baf685a",
   "metadata": {},
   "source": [
    "# Baekjoon 10870\n",
    "\n",
    "## 피보나치 수 5\n",
    "\n",
    "### 피보나치 수는 0과 1로 시작한다. 0번째 피보나치 수는 0이고, 1번째 피보나치 수는 1이다.\n",
    "\n",
    "### 그 다음 2번째 부터는 바로 앞 두 피보나치 수의 합이 된다.\n",
    "\n",
    "### 이를 식으로 써보면 Fn = Fn-1 + Fn-2 (n ≥ 2)가 된다.\n",
    "\n",
    "### n=17일때 까지 피보나치 수를 써보면 다음과 같다.\n",
    "\n",
    "### 0, 1, 1, 2, 3, 5, 8, 13, 21, 34, 55, 89, 144, 233, 377, 610, 987, 1597\n",
    "\n",
    "### n이 주어졌을 때, n번째 피보나치 수를 구하는 프로그램을 작성하시오.\n",
    "\n",
    "## INPUT\n",
    "\n",
    "### 첫째 줄에 n이 주어진다. n은 20보다 작거나 같은 자연수 또는 0이다.\n",
    "\n",
    "## OUTPUT\n",
    "\n",
    "### 첫째 줄에 n번째 피보나치 수를 출력한다."
   ]
  },
  {
   "cell_type": "code",
   "execution_count": 5,
   "id": "c7f9f699",
   "metadata": {},
   "outputs": [
    {
     "name": "stdout",
     "output_type": "stream",
     "text": [
      "10\n",
      "55\n"
     ]
    }
   ],
   "source": [
    "## Baekjoon 10870\n",
    "\n",
    "def Fibo(n):\n",
    "    if n == 0:\n",
    "        return 0\n",
    "    if n == 1:\n",
    "        return 1\n",
    "    return Fibo(n - 1) + Fibo(n - 2)\n",
    "\n",
    "n = int(input())\n",
    "print(Fibo(n))"
   ]
  }
 ],
 "metadata": {
  "kernelspec": {
   "display_name": "Python 3",
   "language": "python",
   "name": "python3"
  },
  "language_info": {
   "codemirror_mode": {
    "name": "ipython",
    "version": 3
   },
   "file_extension": ".py",
   "mimetype": "text/x-python",
   "name": "python",
   "nbconvert_exporter": "python",
   "pygments_lexer": "ipython3",
   "version": "3.8.8"
  }
 },
 "nbformat": 4,
 "nbformat_minor": 5
}
