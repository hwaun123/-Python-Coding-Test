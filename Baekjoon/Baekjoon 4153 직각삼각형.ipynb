{
 "cells": [
  {
   "cell_type": "code",
   "execution_count": 5,
   "id": "7f222d21",
   "metadata": {},
   "outputs": [
    {
     "name": "stdout",
     "output_type": "stream",
     "text": [
      "6 8 10\n",
      "right\n",
      "0 0 0\n"
     ]
    }
   ],
   "source": [
    "## Baekjoon 4153\n",
    "while True:\n",
    "    slist = list(map(int,input().split()))\n",
    "    \n",
    "    s3 = max(slist)\n",
    "    slist.remove(s3)\n",
    "    \n",
    "    s1 = min(slist)\n",
    "    slist.remove(s1)\n",
    "\n",
    "    s2 = slist[0]\n",
    "    if s1 == 0 and s2 == 0 and s3 == 0:\n",
    "        break\n",
    "    \n",
    "    if s3 * s3 == s1 * s1 + s2 * s2:\n",
    "        print('right')\n",
    "    else:\n",
    "        print('wrong')"
   ]
  },
  {
   "cell_type": "code",
   "execution_count": null,
   "id": "f451462f",
   "metadata": {},
   "outputs": [],
   "source": [
    "## Baekjoon 4153\n",
    "while True:\n",
    "    slist = list(map(int,input().split()))\n",
    "    \n",
    "    s3 = max(slist)\n",
    "    slist.remove(s3)\n",
    "    \n",
    "    s1 = min(slist)\n",
    "    slist.remove(s1)\n",
    "\n",
    "    s2 = slist[0]\n",
    "    if s1 == 0 and s2 == 0 and s3 == 0:\n",
    "        break\n",
    "    \n",
    "    if s3 * s3 == s1 * s1 + s2 * s2:\n",
    "        print('right')\n",
    "    else:\n",
    "        print('wrong')"
   ]
  }
 ],
 "metadata": {
  "kernelspec": {
   "display_name": "Python 3",
   "language": "python",
   "name": "python3"
  },
  "language_info": {
   "codemirror_mode": {
    "name": "ipython",
    "version": 3
   },
   "file_extension": ".py",
   "mimetype": "text/x-python",
   "name": "python",
   "nbconvert_exporter": "python",
   "pygments_lexer": "ipython3",
   "version": "3.8.8"
  }
 },
 "nbformat": 4,
 "nbformat_minor": 5
}
