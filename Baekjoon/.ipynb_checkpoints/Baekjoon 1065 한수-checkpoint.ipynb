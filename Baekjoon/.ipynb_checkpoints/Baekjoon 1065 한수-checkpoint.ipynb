{
 "cells": [
  {
   "cell_type": "markdown",
   "id": "fd5a90b1",
   "metadata": {},
   "source": [
    "# Baekjoon 1065\n",
    "\n",
    "## 한수\n",
    "\n",
    "### 어떤 양의 정수 X의 각 자리가 등차수열을 이룬다면, 그 수를 한수라고 한다. \n",
    "\n",
    "### 등차수열은 연속된 두 개의 수의 차이가 일정한 수열을 말한다. N이 주어졌을 때, 1보다 크거나 같고, \n",
    "\n",
    "### N보다 작거나 같은 한수의 개수를 출력하는 프로그램을 작성하시오. \n",
    "\n",
    "## INPUT\n",
    "\n",
    "### 첫째 줄에 1,000보다 작거나 같은 자연수 N이 주어진다.\n",
    "\n",
    "## OUTPUT\n",
    "\n",
    "### 첫째 줄에 1보다 크거나 같고, N보다 작거나 같은 한수의 개수를 출력한다."
   ]
  },
  {
   "cell_type": "code",
   "execution_count": null,
   "id": "5651046d",
   "metadata": {},
   "outputs": [],
   "source": [
    "## Baekjoon 1065\n",
    "def hansu(n):\n",
    "    if n < 100:\n",
    "        return True\n",
    "    elif n == 1000:\n",
    "        return False\n",
    "    \n",
    "    n = str(n)\n",
    "    \n",
    "    n1, n2, n3 = int(n[0]), int(n[1]), int(n[2])\n",
    "    \n",
    "    d1 = n1 - n2\n",
    "    d2 = n2 - n3\n",
    "    \n",
    "    if d1 == d2:\n",
    "        return True\n",
    "    \n",
    "    return False\n",
    "\n",
    "N = int(input())\n",
    "\n",
    "cnt = 0\n",
    "for i in range(1, N + 1):\n",
    "    if hansu(i):\n",
    "        cnt += 1\n",
    "\n",
    "print(cnt)"
   ]
  }
 ],
 "metadata": {
  "kernelspec": {
   "display_name": "Python 3 (ipykernel)",
   "language": "python",
   "name": "python3"
  },
  "language_info": {
   "codemirror_mode": {
    "name": "ipython",
    "version": 3
   },
   "file_extension": ".py",
   "mimetype": "text/x-python",
   "name": "python",
   "nbconvert_exporter": "python",
   "pygments_lexer": "ipython3",
   "version": "3.9.7"
  }
 },
 "nbformat": 4,
 "nbformat_minor": 5
}
