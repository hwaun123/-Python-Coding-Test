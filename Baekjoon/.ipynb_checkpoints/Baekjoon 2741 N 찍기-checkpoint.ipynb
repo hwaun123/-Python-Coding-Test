{
 "cells": [
  {
   "cell_type": "markdown",
   "id": "f3dd2375",
   "metadata": {},
   "source": [
    "# Baekjoon 2741\n",
    "\n",
    "## N 찍기\n",
    "\n",
    "### 자연수 N이 주어졌을 때, 1부터 N까지 한 줄에 하나씩 출력하는 프로그램을 작성하시오.\n",
    "\n",
    "## INPUT\n",
    "\n",
    "### 첫째 줄에 100,000보다 작거나 같은 자연수 N이 주어진다.\n",
    "\n",
    "## OUTPUT\n",
    "\n",
    "### 첫째 줄부터 N번째 줄 까지 차례대로 출력한다."
   ]
  },
  {
   "cell_type": "code",
   "execution_count": null,
   "id": "f626f9b6",
   "metadata": {},
   "outputs": [],
   "source": [
    "## Baekjoon 2741\n",
    "N = int(input())\n",
    "\n",
    "for i in range(1, N + 1):\n",
    "    print(i)"
   ]
  }
 ],
 "metadata": {
  "kernelspec": {
   "display_name": "Python 3",
   "language": "python",
   "name": "python3"
  },
  "language_info": {
   "codemirror_mode": {
    "name": "ipython",
    "version": 3
   },
   "file_extension": ".py",
   "mimetype": "text/x-python",
   "name": "python",
   "nbconvert_exporter": "python",
   "pygments_lexer": "ipython3",
   "version": "3.8.8"
  }
 },
 "nbformat": 4,
 "nbformat_minor": 5
}
