{
 "cells": [
  {
   "cell_type": "markdown",
   "id": "6d816d88",
   "metadata": {},
   "source": [
    "# Baekjoon 2438\n",
    "\n",
    "## 별 찍기 - 1\n",
    "\n",
    "### 첫째 줄에는 별 1개, 둘째 줄에는 별 2개, N번째 줄에는 별 N개를 찍는 문제\n",
    "\n",
    "## INPUT\n",
    "\n",
    "### 첫째 줄에 N(1 ≤ N ≤ 100)이 주어진다.\n",
    "\n",
    "## OUTPUT\n",
    "\n",
    "### 첫째 줄부터 N번째 줄까지 차례대로 별을 출력한다."
   ]
  },
  {
   "cell_type": "code",
   "execution_count": 1,
   "id": "54c7daea",
   "metadata": {},
   "outputs": [
    {
     "name": "stdout",
     "output_type": "stream",
     "text": [
      "5\n",
      "*\n",
      "**\n",
      "***\n",
      "****\n",
      "*****\n"
     ]
    }
   ],
   "source": [
    "## Baekjoon 2438\n",
    "N = int(input())\n",
    "\n",
    "for i in range(1, N + 1):\n",
    "    for j in range(i):\n",
    "        print('*', end = '')\n",
    "    print()"
   ]
  }
 ],
 "metadata": {
  "kernelspec": {
   "display_name": "Python 3",
   "language": "python",
   "name": "python3"
  },
  "language_info": {
   "codemirror_mode": {
    "name": "ipython",
    "version": 3
   },
   "file_extension": ".py",
   "mimetype": "text/x-python",
   "name": "python",
   "nbconvert_exporter": "python",
   "pygments_lexer": "ipython3",
   "version": "3.8.8"
  }
 },
 "nbformat": 4,
 "nbformat_minor": 5
}
