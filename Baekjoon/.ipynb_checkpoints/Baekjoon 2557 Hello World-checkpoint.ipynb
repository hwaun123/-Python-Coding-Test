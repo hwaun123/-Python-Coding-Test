{
 "cells": [
  {
   "cell_type": "markdown",
   "id": "80396a80",
   "metadata": {},
   "source": [
    "# Baekjoon 2557 \n",
    "\n",
    "## Hello World\n",
    "\n",
    "### Hello World!를 출력하시오.\n",
    "\n",
    "## OUTPUT\n",
    "\n",
    "### Hello World!"
   ]
  },
  {
   "cell_type": "code",
   "execution_count": null,
   "id": "c403bb80",
   "metadata": {},
   "outputs": [],
   "source": [
    "## Baekjoon 2557\n",
    "print('Hello World!')"
   ]
  }
 ],
 "metadata": {
  "kernelspec": {
   "display_name": "Python 3 (ipykernel)",
   "language": "python",
   "name": "python3"
  },
  "language_info": {
   "codemirror_mode": {
    "name": "ipython",
    "version": 3
   },
   "file_extension": ".py",
   "mimetype": "text/x-python",
   "name": "python",
   "nbconvert_exporter": "python",
   "pygments_lexer": "ipython3",
   "version": "3.9.7"
  }
 },
 "nbformat": 4,
 "nbformat_minor": 5
}
