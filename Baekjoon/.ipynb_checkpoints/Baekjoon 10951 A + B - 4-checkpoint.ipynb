{
 "cells": [
  {
   "cell_type": "markdown",
   "id": "03a8ae1b",
   "metadata": {},
   "source": [
    "# Baekjoon 10951\n",
    "\n",
    "## A + B - 4\n",
    "\n",
    "### 두 정수 A와 B를 입력받은 다음, A+B를 출력하는 프로그램을 작성하시오.\n",
    "\n",
    "## INPUT\n",
    "\n",
    "### 입력은 여러 개의 테스트 케이스로 이루어져 있다.\n",
    "\n",
    "### 각 테스트 케이스는 한 줄로 이루어져 있으며, 각 줄에 A와 B가 주어진다. (0 < A, B < 10)\n",
    "\n",
    "## OUTPUT\n",
    "\n",
    "### 각 테스트 케이스마다 A+B를 출력한다."
   ]
  },
  {
   "cell_type": "code",
   "execution_count": null,
   "id": "de894400",
   "metadata": {},
   "outputs": [],
   "source": [
    "## Baekjoon 10951\n",
    "while True:\n",
    "    try:\n",
    "        A, B = map(int, input().split())\n",
    "        print(A + B)\n",
    "    except:\n",
    "        break"
   ]
  }
 ],
 "metadata": {
  "kernelspec": {
   "display_name": "Python 3",
   "language": "python",
   "name": "python3"
  },
  "language_info": {
   "codemirror_mode": {
    "name": "ipython",
    "version": 3
   },
   "file_extension": ".py",
   "mimetype": "text/x-python",
   "name": "python",
   "nbconvert_exporter": "python",
   "pygments_lexer": "ipython3",
   "version": "3.8.8"
  }
 },
 "nbformat": 4,
 "nbformat_minor": 5
}
