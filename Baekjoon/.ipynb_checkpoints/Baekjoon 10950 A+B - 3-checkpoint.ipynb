{
 "cells": [
  {
   "cell_type": "markdown",
   "id": "c1169c31",
   "metadata": {},
   "source": [
    "# Baekjoon 10950\n",
    "\n",
    "## A+B - 3\n",
    "\n",
    "### 두 정수 A와 B를 입력받은 다음, A+B를 출력하는 프로그램을 작성하시오.\n",
    "\n",
    "## INPUT\n",
    "\n",
    "### 첫째 줄에 테스트 케이스의 개수 T가 주어진다.\n",
    "\n",
    "### 각 테스트 케이스는 한 줄로 이루어져 있으며, 각 줄에 A와 B가 주어진다. (0 < A, B < 10)\n",
    "\n",
    "## OUTPUT\n",
    "\n",
    "### 각 테스트 케이스마다 A+B를 출력한다."
   ]
  },
  {
   "cell_type": "code",
   "execution_count": null,
   "id": "cb97b8e6",
   "metadata": {},
   "outputs": [],
   "source": [
    "## Baekjoon 10950\n",
    "T = int(input())\n",
    "\n",
    "for i in range(T):\n",
    "    A, B = map(int, input().split())\n",
    "    \n",
    "    print(A + B)"
   ]
  }
 ],
 "metadata": {
  "kernelspec": {
   "display_name": "Python 3",
   "language": "python",
   "name": "python3"
  },
  "language_info": {
   "codemirror_mode": {
    "name": "ipython",
    "version": 3
   },
   "file_extension": ".py",
   "mimetype": "text/x-python",
   "name": "python",
   "nbconvert_exporter": "python",
   "pygments_lexer": "ipython3",
   "version": "3.8.8"
  }
 },
 "nbformat": 4,
 "nbformat_minor": 5
}
