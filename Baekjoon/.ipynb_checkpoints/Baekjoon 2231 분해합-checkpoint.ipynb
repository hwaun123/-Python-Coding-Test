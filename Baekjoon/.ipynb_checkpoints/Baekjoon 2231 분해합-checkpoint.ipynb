{
 "cells": [
  {
   "cell_type": "markdown",
   "id": "041fecbf",
   "metadata": {},
   "source": [
    "# Baekjoon 2231\n",
    "\n",
    "## 분해합\n",
    "\n",
    "### 어떤 자연수 N이 있을 때, 그 자연수 N의 분해합은 N과 N을 이루는 각 자리수의 합을 의미한다. \n",
    "\n",
    "### 어떤 자연수 M의 분해합이 N인 경우, M을 N의 생성자라 한다. 예를 들어, 245의 분해합은 256(=245+2+4+5)이 된다. \n",
    "\n",
    "### 따라서 245는 256의 생성자가 된다. 물론, 어떤 자연수의 경우에는 생성자가 없을 수도 있다.\n",
    "\n",
    "### 반대로, 생성자가 여러 개인 자연수도 있을 수 있다.\n",
    "\n",
    "### 자연수 N이 주어졌을 때, N의 가장 작은 생성자를 구해내는 프로그램을 작성하시오.\n",
    "\n",
    "## INPUT\n",
    "\n",
    "### 첫째 줄에 자연수 N(1 ≤ N ≤ 1,000,000)이 주어진다.\n",
    "\n",
    "## OUTPUT\n",
    "\n",
    "### 첫째 줄에 답을 출력한다. 생성자가 없는 경우에는 0을 출력한다."
   ]
  },
  {
   "cell_type": "code",
   "execution_count": null,
   "id": "458299c3",
   "metadata": {},
   "outputs": [],
   "source": [
    "## Baekjoon 2231\n",
    "N = input()\n",
    "\n",
    "t = True\n",
    "for i in range(1, int(N) + 1):\n",
    "    M = i\n",
    "    \n",
    "    for j in str(M):\n",
    "        M += int(j)\n",
    "    if M == int(N):\n",
    "        print(i)\n",
    "        t = False\n",
    "        break\n",
    "if t:\n",
    "    print('0')"
   ]
  }
 ],
 "metadata": {
  "kernelspec": {
   "display_name": "Python 3 (ipykernel)",
   "language": "python",
   "name": "python3"
  },
  "language_info": {
   "codemirror_mode": {
    "name": "ipython",
    "version": 3
   },
   "file_extension": ".py",
   "mimetype": "text/x-python",
   "name": "python",
   "nbconvert_exporter": "python",
   "pygments_lexer": "ipython3",
   "version": "3.9.7"
  }
 },
 "nbformat": 4,
 "nbformat_minor": 5
}
