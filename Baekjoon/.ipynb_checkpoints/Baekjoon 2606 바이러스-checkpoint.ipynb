{
 "cells": [
  {
   "cell_type": "markdown",
   "id": "dfe65e40",
   "metadata": {},
   "source": [
    "# Baekjoon 2606\n",
    "\n",
    "## 바이러스 \n",
    "\n",
    "### 신종 바이러스인 웜 바이러스는 네트워크를 통해 전파된다. 한 컴퓨터가 웜 바이러스에 걸리면 \n",
    "\n",
    "### 그 컴퓨터와 네트워크 상에서 연결되어 있는 모든 컴퓨터는 웜 바이러스에 걸리게 된다.\n",
    "\n",
    "### 예를 들어 7대의 컴퓨터가 <그림 1>과 같이 네트워크 상에서 연결되어 있다고 하자. \n",
    "\n",
    "### 1번 컴퓨터가 웜 바이러스에 걸리면 웜 바이러스는 2번과 5번 컴퓨터를 거쳐 3번과 6번 컴퓨터까지 전파되어 \n",
    "\n",
    "### 2, 3, 5, 6 네 대의 컴퓨터는 웜 바이러스에 걸리게 된다. 하지만 4번과 7번 컴퓨터는 1번 컴퓨터와 \n",
    "\n",
    "### 네트워크상에서 연결되어 있지 않기 때문에 영향을 받지 않는다.\n",
    "\n",
    "### 어느 날 1번 컴퓨터가 웜 바이러스에 걸렸다. 컴퓨터의 수와 네트워크 상에서 서로 연결되어 있는 정보가 주어질 때, \n",
    "\n",
    "### 1번 컴퓨터를 통해 웜 바이러스에 걸리게 되는 컴퓨터의 수를 출력하는 프로그램을 작성하시오.\n",
    "\n",
    "## INPUT\n",
    "\n",
    "### 첫째 줄에는 컴퓨터의 수가 주어진다. \n",
    "\n",
    "### 컴퓨터의 수는 100 이하이고 각 컴퓨터에는 1번 부터 차례대로 번호가 매겨진다.\n",
    "\n",
    "### 둘째 줄에는 네트워크 상에서 직접 연결되어 있는 컴퓨터 쌍의 수가 주어진다. \n",
    "\n",
    "### 이어서 그 수만큼 한 줄에 한 쌍씩 네트워크 상에서 직접 연결되어 있는 컴퓨터의 번호 쌍이 주어진다.\n",
    "\n",
    "## OUTPUT\n",
    "\n",
    "### 1번 컴퓨터가 웜 바이러스에 걸렸을 때, 1번 컴퓨터를 통해 웜 바이러스에 걸리게 되는 컴퓨터의 수를 \n",
    "\n",
    "### 첫째 줄에 출력한다."
   ]
  },
  {
   "cell_type": "code",
   "execution_count": null,
   "id": "d32fb53a",
   "metadata": {},
   "outputs": [],
   "source": [
    "## Baekjoon 2606\n",
    "def DFS(graph, root):\n",
    "    visited = []\n",
    "    stack = [root]\n",
    "    \n",
    "    while stack:\n",
    "        node = stack.pop()\n",
    "        \n",
    "        if node not in visited:\n",
    "            visited.append(node)\n",
    "            stack.extend(graph[node])\n",
    "            \n",
    "    return visited\n",
    "c = int(input())\n",
    "e = int(input())\n",
    "\n",
    "graph = {}\n",
    "\n",
    "for i in range(1, c + 1):\n",
    "    graph[i] = []\n",
    "    \n",
    "for i in range(e):\n",
    "    n1, n2 = map(int, input().split())\n",
    "    \n",
    "    if n2 not in graph[n1]:\n",
    "        graph[n1].append(n2)\n",
    "    if n1 not in graph[n2]:\n",
    "        graph[n2].append(n1)\n",
    "    \n",
    "print(len(DFS(graph, 1)) - 1)"
   ]
  }
 ],
 "metadata": {
  "kernelspec": {
   "display_name": "Python 3",
   "language": "python",
   "name": "python3"
  },
  "language_info": {
   "codemirror_mode": {
    "name": "ipython",
    "version": 3
   },
   "file_extension": ".py",
   "mimetype": "text/x-python",
   "name": "python",
   "nbconvert_exporter": "python",
   "pygments_lexer": "ipython3",
   "version": "3.8.8"
  }
 },
 "nbformat": 4,
 "nbformat_minor": 5
}
