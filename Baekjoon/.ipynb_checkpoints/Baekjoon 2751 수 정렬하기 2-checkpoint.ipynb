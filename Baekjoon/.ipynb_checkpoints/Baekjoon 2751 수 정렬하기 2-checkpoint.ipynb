{
 "cells": [
  {
   "cell_type": "code",
   "execution_count": null,
   "id": "7d46c0cc",
   "metadata": {},
   "outputs": [],
   "source": [
    "## Baekjoon 2751\n",
    "import sys\n",
    "input = sys.stdin.readline\n",
    "\n",
    "def Devide(lst):\n",
    "    if len(lst) <= 1:\n",
    "        return lst\n",
    "    \n",
    "    mid = len(lst) // 2\n",
    "    left = Devide(lst[:mid])\n",
    "    right = Devide(lst[mid:])\n",
    "    \n",
    "    return Merge(left, right)\n",
    "\n",
    "def Merge(left, right):\n",
    "    merge_lst = []\n",
    "    l, r = 0, 0\n",
    "    \n",
    "    while l < len(left) and r < len(right):\n",
    "        if left[l] < right[r]:\n",
    "            merge_lst.append(left[l])\n",
    "            l += 1\n",
    "        else:\n",
    "            merge_lst.append(right[r])\n",
    "            r += 1\n",
    "            \n",
    "    merge_lst += left[l:]\n",
    "    merge_lst += right[r:]\n",
    "    \n",
    "    return merge_lst\n",
    "\n",
    "N = int(input())\n",
    "lst = []\n",
    "sorted_list=[]\n",
    "\n",
    "for i in range(N):\n",
    "    n = int(input())\n",
    "    lst.append(n)\n",
    "\n",
    "lst = Devide(lst)\n",
    "\n",
    "for i in lst:\n",
    "    print(i)"
   ]
  }
 ],
 "metadata": {
  "kernelspec": {
   "display_name": "Python 3",
   "language": "python",
   "name": "python3"
  },
  "language_info": {
   "codemirror_mode": {
    "name": "ipython",
    "version": 3
   },
   "file_extension": ".py",
   "mimetype": "text/x-python",
   "name": "python",
   "nbconvert_exporter": "python",
   "pygments_lexer": "ipython3",
   "version": "3.8.8"
  }
 },
 "nbformat": 4,
 "nbformat_minor": 5
}
