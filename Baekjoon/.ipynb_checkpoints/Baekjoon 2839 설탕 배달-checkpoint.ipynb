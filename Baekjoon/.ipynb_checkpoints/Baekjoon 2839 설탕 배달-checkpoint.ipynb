{
 "cells": [
  {
   "cell_type": "markdown",
   "id": "5d12e419",
   "metadata": {},
   "source": [
    "# Baekjoon 1193\n",
    "\n",
    "## 분수찾기\n",
    "\n",
    "### 나열된 분수들을 1/1 → 1/2 → 2/1 → 3/1 → 2/2 → … 과 같은 지그재그 순서로 차례대로\n",
    "\n",
    "### 1번, 2번, 3번, 4번, 5번, … 분수라고 하자.\n",
    "\n",
    "### X가 주어졌을 때, X번째 분수를 구하는 프로그램을 작성하시오.\n",
    "\n",
    "## INPUT\n",
    "\n",
    "### 첫째 줄에 X(1 ≤ X ≤ 10,000,000)가 주어진다.\n",
    "\n",
    "## OUTPUT\n",
    "\n",
    "### 첫째 줄에 분수를 출력한다."
   ]
  },
  {
   "cell_type": "code",
   "execution_count": null,
   "id": "a838be51",
   "metadata": {},
   "outputs": [],
   "source": [
    "## Baekjoon 1193\n",
    "\n",
    "denominator = 1\n",
    "numerator = 1\n"
   ]
  }
 ],
 "metadata": {
  "kernelspec": {
   "display_name": "Python 3",
   "language": "python",
   "name": "python3"
  },
  "language_info": {
   "codemirror_mode": {
    "name": "ipython",
    "version": 3
   },
   "file_extension": ".py",
   "mimetype": "text/x-python",
   "name": "python",
   "nbconvert_exporter": "python",
   "pygments_lexer": "ipython3",
   "version": "3.8.8"
  }
 },
 "nbformat": 4,
 "nbformat_minor": 5
}
