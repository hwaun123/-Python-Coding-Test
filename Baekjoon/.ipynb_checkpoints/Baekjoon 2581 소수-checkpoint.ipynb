{
 "cells": [
  {
   "cell_type": "markdown",
   "id": "38f82d2a",
   "metadata": {},
   "source": [
    "# Baekjoon 2581\n",
    "\n",
    "## 소수\n",
    "\n",
    "### 자연수 M과 N이 주어질 때 M이상 N이하의 자연수 중 소수인 것을 모두 골라 \n",
    "\n",
    "### 이들 소수의 합과 최솟값을 찾는 프로그램을 작성하시오.\n",
    "\n",
    "### 예를 들어 M=60, N=100인 경우 60이상 100이하의 자연수 중 소수는 \n",
    "\n",
    "### 61, 67, 71, 73, 79, 83, 89, 97 총 8개가 있으므로, 이들 소수의 합은 620이고, 최솟값은 61이 된다.\n",
    "\n",
    "## INPUT\n",
    "\n",
    "### 입력의 첫째 줄에 M이, 둘째 줄에 N이 주어진다.\n",
    "\n",
    "### M과 N은 10,000이하의 자연수이며, M은 N보다 작거나 같다.\n",
    "\n",
    "## OUTPUT\n",
    "\n",
    "### M이상 N이하의 자연수 중 소수인 것을 모두 찾아 첫째 줄에 그 합을, 둘째 줄에 그 중 최솟값을 출력한다. \n",
    "\n",
    "### 단, M이상 N이하의 자연수 중 소수가 없을 경우는 첫째 줄에 -1을 출력한다."
   ]
  }
 ],
 "metadata": {
  "kernelspec": {
   "display_name": "Python 3",
   "language": "python",
   "name": "python3"
  },
  "language_info": {
   "codemirror_mode": {
    "name": "ipython",
    "version": 3
   },
   "file_extension": ".py",
   "mimetype": "text/x-python",
   "name": "python",
   "nbconvert_exporter": "python",
   "pygments_lexer": "ipython3",
   "version": "3.8.8"
  }
 },
 "nbformat": 4,
 "nbformat_minor": 5
}
