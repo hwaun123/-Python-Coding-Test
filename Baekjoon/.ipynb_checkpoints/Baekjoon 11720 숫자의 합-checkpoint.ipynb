{
 "cells": [
  {
   "cell_type": "markdown",
   "id": "dae53e6b",
   "metadata": {},
   "source": [
    "# Baekjoon 11720\n",
    "\n",
    "## 숫자의 합\n",
    "\n",
    "### N개의 숫자가 공백 없이 쓰여있다. 이 숫자를 모두 합해서 출력하는 프로그램을 작성하시오.\n",
    "\n",
    "## INPUT\n",
    "\n",
    "### 첫째 줄에 숫자의 개수 N (1 ≤ N ≤ 100)이 주어진다. 둘째 줄에 숫자 N개가 공백없이 주어진다.\n",
    "\n",
    "## OUTPUT\n",
    "\n",
    "### 입력으로 주어진 숫자 N개의 합을 출력한다."
   ]
  },
  {
   "cell_type": "code",
   "execution_count": null,
   "id": "81172212",
   "metadata": {},
   "outputs": [],
   "source": [
    "## Baekjoon 11720\n",
    "N = int(input())\n",
    "\n",
    "nline = input()\n",
    "nlist = list(map(int, nline))\n",
    "\n",
    "print(sum(nlist))"
   ]
  }
 ],
 "metadata": {
  "kernelspec": {
   "display_name": "Python 3",
   "language": "python",
   "name": "python3"
  },
  "language_info": {
   "codemirror_mode": {
    "name": "ipython",
    "version": 3
   },
   "file_extension": ".py",
   "mimetype": "text/x-python",
   "name": "python",
   "nbconvert_exporter": "python",
   "pygments_lexer": "ipython3",
   "version": "3.8.8"
  }
 },
 "nbformat": 4,
 "nbformat_minor": 5
}
