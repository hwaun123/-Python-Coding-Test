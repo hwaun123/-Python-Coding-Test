{
 "cells": [
  {
   "cell_type": "markdown",
   "id": "abac7e2e",
   "metadata": {},
   "source": [
    "# Baekjoon 8958\n",
    "\n",
    "## OX퀴즈\n",
    "\n",
    "### \"OOXXOXXOOO\"와 같은 OX퀴즈의 결과가 있다. O는 문제를 맞은 것이고, X는 문제를 틀린 것이다. \n",
    "\n",
    "### 문제를 맞은 경우 그 문제의 점수는 그 문제까지 연속된 O의 개수가 된다. 예를 들어, 10번 문제의 점수는 3이 된다.\n",
    "\n",
    "### \"OOXXOXXOOO\"의 점수는 1+2+0+0+1+0+0+1+2+3 = 10점이다.\n",
    "\n",
    "### OX퀴즈의 결과가 주어졌을 때, 점수를 구하는 프로그램을 작성하시오.\n",
    "\n",
    "## INPUT\n",
    "\n",
    "### 첫째 줄에 테스트 케이스의 개수가 주어진다. 각 테스트 케이스는 한 줄로 이루어져 있고,\n",
    "\n",
    "### 길이가 0보다 크고 80보다 작은 문자열이 주어진다. 문자열은 O와 X만으로 이루어져 있다.\n",
    "\n",
    "## OUTPUT\n",
    "\n",
    "### 각 테스트 케이스마다 점수를 출력한다."
   ]
  },
  {
   "cell_type": "code",
   "execution_count": null,
   "id": "78d43dfb",
   "metadata": {},
   "outputs": [],
   "source": [
    "## Baekjoon 8958\n",
    "N = int(input())\n",
    "\n",
    "for _ in range(N):\n",
    "    arr = input()\n",
    "    \n",
    "    cnt = 1\n",
    "    result = 0\n",
    "    for i in range(len(arr)):\n",
    "        if arr[i] == 'O':\n",
    "            result += cnt\n",
    "            \n",
    "            cnt += 1\n",
    "        else:\n",
    "            cnt = 1\n",
    "    print(result)"
   ]
  }
 ],
 "metadata": {
  "kernelspec": {
   "display_name": "Python 3",
   "language": "python",
   "name": "python3"
  },
  "language_info": {
   "codemirror_mode": {
    "name": "ipython",
    "version": 3
   },
   "file_extension": ".py",
   "mimetype": "text/x-python",
   "name": "python",
   "nbconvert_exporter": "python",
   "pygments_lexer": "ipython3",
   "version": "3.8.8"
  }
 },
 "nbformat": 4,
 "nbformat_minor": 5
}
