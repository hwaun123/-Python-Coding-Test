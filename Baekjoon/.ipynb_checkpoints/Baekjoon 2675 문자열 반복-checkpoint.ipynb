{
 "cells": [
  {
   "cell_type": "markdown",
   "id": "f36372c4",
   "metadata": {},
   "source": [
    "# Baekjoon 2675\n",
    "\n",
    "## 문자열 반복\n",
    "\n",
    "### 문자열 S를 입력받은 후에, 각 문자를 R번 반복해 새 문자열 P를 만든 후 출력하는 프로그램을 작성하시오. \n",
    "\n",
    "### 즉, 첫 번째 문자를 R번 반복하고, 두 번째 문자를 R번 반복하는 식으로 P를 만들면 된다. \n",
    "\n",
    "### S에는 QR Code \"alphanumeric\" 문자만 들어있다.\n",
    "\n",
    "### QR Code \"alphanumeric\" 문자는 0123456789ABCDEFGHIJKLMNOPQRSTUVWXYZ\\$%*+-./: 이다.\\\n",
    "\n",
    "## INPUT\n",
    "\n",
    "### 첫째 줄에 테스트 케이스의 개수 T(1 ≤ T ≤ 1,000)가 주어진다. 각 테스트 케이스는 반복 횟수 R(1 ≤ R ≤ 8), \n",
    "\n",
    "### 문자열 S가 공백으로 구분되어 주어진다. S의 길이는 적어도 1이며, 20글자를 넘지 않는다. \n",
    "\n",
    "## OUTPUT\n",
    "\n",
    "### 각 테스트 케이스에 대해 P를 출력한다."
   ]
  },
  {
   "cell_type": "code",
   "execution_count": null,
   "id": "14da9031",
   "metadata": {},
   "outputs": [],
   "source": [
    "## Baekjoon 2675\n",
    "T = int(input())\n",
    "for i in range(T):\n",
    "    R, S = map(str, input().split())\n",
    "    \n",
    "    for j in S:\n",
    "        for k in range(int(R)):\n",
    "            print(j, end = '')\n",
    "    print('')"
   ]
  }
 ],
 "metadata": {
  "kernelspec": {
   "display_name": "Python 3",
   "language": "python",
   "name": "python3"
  },
  "language_info": {
   "codemirror_mode": {
    "name": "ipython",
    "version": 3
   },
   "file_extension": ".py",
   "mimetype": "text/x-python",
   "name": "python",
   "nbconvert_exporter": "python",
   "pygments_lexer": "ipython3",
   "version": "3.8.8"
  }
 },
 "nbformat": 4,
 "nbformat_minor": 5
}
