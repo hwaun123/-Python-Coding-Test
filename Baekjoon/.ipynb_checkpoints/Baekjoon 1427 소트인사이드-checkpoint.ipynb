{
 "cells": [
  {
   "cell_type": "markdown",
   "id": "b4fe87f5",
   "metadata": {},
   "source": [
    "# Baekjoon 1427\n",
    "\n",
    "## 소트인사이드\n",
    "\n",
    "### 배열을 정렬하는 것은 쉽다. 수가 주어지면, 그 수의 각 자리수를 내림차순으로 정렬해보자.\n",
    "\n",
    "## INPUT\n",
    "\n",
    "### 첫째 줄에 정렬하려고 하는 수 N이 주어진다. N은 1,000,000,000보다 작거나 같은 자연수이다.\n",
    "\n",
    "## OUTPUT\n",
    "\n",
    "### 첫째 줄에 자리수를 내림차순으로 정렬한 수를 출력한다."
   ]
  },
  {
   "cell_type": "code",
   "execution_count": null,
   "id": "42eb43bb",
   "metadata": {},
   "outputs": [],
   "source": [
    "## Baekjoon 1427\n",
    "N = input()\n",
    "\n",
    "lst = []\n",
    "for i in N:\n",
    "    lst.append(int(i))\n",
    "    \n",
    "lst.sort(reverse = True)\n",
    "for i in lst:\n",
    "    print(i, end = '')"
   ]
  }
 ],
 "metadata": {
  "kernelspec": {
   "display_name": "Python 3 (ipykernel)",
   "language": "python",
   "name": "python3"
  },
  "language_info": {
   "codemirror_mode": {
    "name": "ipython",
    "version": 3
   },
   "file_extension": ".py",
   "mimetype": "text/x-python",
   "name": "python",
   "nbconvert_exporter": "python",
   "pygments_lexer": "ipython3",
   "version": "3.9.7"
  }
 },
 "nbformat": 4,
 "nbformat_minor": 5
}
