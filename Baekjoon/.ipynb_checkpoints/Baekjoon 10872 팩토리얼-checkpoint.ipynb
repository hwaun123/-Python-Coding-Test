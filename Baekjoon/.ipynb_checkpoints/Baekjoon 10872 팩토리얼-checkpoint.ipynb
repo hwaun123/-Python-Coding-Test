{
 "cells": [
  {
   "cell_type": "markdown",
   "id": "4aecedad",
   "metadata": {},
   "source": [
    "# Baekjoon 10872\n",
    "\n",
    "## 팩토리얼\n",
    "\n",
    "### 0보다 크거나 같은 정수 N이 주어진다. 이때, N!을 출력하는 프로그램을 작성하시오.\n",
    "\n",
    "## INPUT\n",
    "\n",
    "### 첫째 줄에 정수 N(0 ≤ N ≤ 12)이 주어진다.\n",
    "\n",
    "## "
   ]
  },
  {
   "cell_type": "code",
   "execution_count": null,
   "id": "f03851ad",
   "metadata": {},
   "outputs": [],
   "source": [
    "## Baekjoon 10872\n",
    "def Factorial(N):\n",
    "    if N == 1 or N == 0:\n",
    "        return 1\n",
    "    \n",
    "    return N * Factorial(N-1)\n",
    "    \n",
    "N = int(input())\n",
    "\n",
    "F = Factorial(N)\n",
    "print(F)"
   ]
  }
 ],
 "metadata": {
  "kernelspec": {
   "display_name": "Python 3 (ipykernel)",
   "language": "python",
   "name": "python3"
  },
  "language_info": {
   "codemirror_mode": {
    "name": "ipython",
    "version": 3
   },
   "file_extension": ".py",
   "mimetype": "text/x-python",
   "name": "python",
   "nbconvert_exporter": "python",
   "pygments_lexer": "ipython3",
   "version": "3.9.7"
  }
 },
 "nbformat": 4,
 "nbformat_minor": 5
}
