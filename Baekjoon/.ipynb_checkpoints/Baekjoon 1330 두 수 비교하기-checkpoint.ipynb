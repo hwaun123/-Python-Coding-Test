{
 "cells": [
  {
   "cell_type": "markdown",
   "id": "9057c1d2",
   "metadata": {},
   "source": [
    "# Baekjoon 1330\n",
    "\n",
    "## 두 수 비교하기\n",
    "\n",
    "### 두 정수 A와 B가 주어졌을 때, A와 B를 비교하는 프로그램을 작성하시오.\n",
    "\n",
    "## INPUT\n",
    "\n",
    "### 첫째 줄에 A와 B가 주어진다. A와 B는 공백 한 칸으로 구분되어져 있다.\n",
    "\n",
    "## OUTPUT\n",
    "\n",
    "### 첫째 줄에 다음 세 가지 중 하나를 출력한다.\n",
    "\n",
    "### A가 B보다 큰 경우에는 '>'를 출력한다.\n",
    "\n",
    "### A가 B보다 작은 경우에는 '<'를 출력한다.\n",
    "\n",
    "### A와 B가 같은 경우에는 '=='를 출력한다."
   ]
  },
  {
   "cell_type": "code",
   "execution_count": null,
   "id": "3510d3fa",
   "metadata": {},
   "outputs": [],
   "source": [
    "## Baekjoon 1330\n",
    "A, B = map(int, input().split())\n",
    "\n",
    "if A > B:\n",
    "    print('>')\n",
    "elif A < B:\n",
    "    print('<')\n",
    "else:\n",
    "    print('==')"
   ]
  }
 ],
 "metadata": {
  "kernelspec": {
   "display_name": "Python 3",
   "language": "python",
   "name": "python3"
  },
  "language_info": {
   "codemirror_mode": {
    "name": "ipython",
    "version": 3
   },
   "file_extension": ".py",
   "mimetype": "text/x-python",
   "name": "python",
   "nbconvert_exporter": "python",
   "pygments_lexer": "ipython3",
   "version": "3.8.8"
  }
 },
 "nbformat": 4,
 "nbformat_minor": 5
}
