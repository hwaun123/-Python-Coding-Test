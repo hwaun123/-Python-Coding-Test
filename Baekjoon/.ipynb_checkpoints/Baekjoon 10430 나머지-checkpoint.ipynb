{
 "cells": [
  {
   "cell_type": "markdown",
   "id": "803204a3",
   "metadata": {},
   "source": [
    "# Baekjoon 10430\n",
    "\n",
    "## 나머지\n",
    "\n",
    "### (A+B)%C는 ((A%C) + (B%C))%C 와 같을까?\n",
    "\n",
    "### (A×B)%C는 ((A%C) × (B%C))%C 와 같을까?\n",
    "\n",
    "### 세 수 A, B, C가 주어졌을 때, 위의 네 가지 값을 구하는 프로그램을 작성하시오.\n",
    "\n",
    "## INPUT\n",
    "\n",
    "### 첫째 줄에 A, B, C가 순서대로 주어진다. (2 ≤ A, B, C ≤ 10000)\n",
    "\n",
    "## OUTPUT\n",
    "\n",
    "### 첫째 줄에 (A+B)%C, 둘째 줄에 ((A%C) + (B%C))%C, \n",
    "\n",
    "### 셋째 줄에 (A×B)%C, 넷째 줄에 ((A%C) × (B%C))%C를 출력한다."
   ]
  },
  {
   "cell_type": "code",
   "execution_count": null,
   "id": "29d67a78",
   "metadata": {},
   "outputs": [],
   "source": [
    "## Baekjoon 10430\n",
    "A, B, C = map(int, input().split())\n",
    "\n",
    "print((A+B) % C)\n",
    "print(((A%C) + (B%C))%C)\n",
    "print((A*B) % C)\n",
    "print(((A%C) * (B%C))%C)"
   ]
  }
 ],
 "metadata": {
  "kernelspec": {
   "display_name": "Python 3",
   "language": "python",
   "name": "python3"
  },
  "language_info": {
   "codemirror_mode": {
    "name": "ipython",
    "version": 3
   },
   "file_extension": ".py",
   "mimetype": "text/x-python",
   "name": "python",
   "nbconvert_exporter": "python",
   "pygments_lexer": "ipython3",
   "version": "3.8.8"
  }
 },
 "nbformat": 4,
 "nbformat_minor": 5
}
