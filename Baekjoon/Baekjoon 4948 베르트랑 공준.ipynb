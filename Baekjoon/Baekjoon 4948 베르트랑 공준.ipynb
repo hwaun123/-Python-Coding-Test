{
 "cells": [
  {
   "cell_type": "markdown",
   "id": "3b43ec69",
   "metadata": {},
   "source": [
    "# Baekjoon 4948\n",
    "\n",
    "## 베르트랑 공준\n",
    "\n",
    "### 베르트랑 공준은 임의의 자연수 n에 대하여, n보다 크고, 2n보다 작거나 같은 소수는 \n",
    "\n",
    "### 적어도 하나 존재한다는 내용을 담고 있다.\n",
    "\n",
    "### 이 명제는 조제프 베르트랑이 1845년에 추측했고, 파프누티 체비쇼프가 1850년에 증명했다.\n",
    "\n",
    "### 예를 들어, 10보다 크고, 20보다 작거나 같은 소수는 4개가 있다. \n",
    "\n",
    "### (11, 13, 17, 19) 또, 14보다 크고, 28보다 작거나 같은 소수는 3개가 있다. (17,19, 23)\n",
    "\n",
    "### 자연수 n이 주어졌을 때, n보다 크고, 2n보다 작거나 같은 소수의 개수를 구하는 프로그램을 작성하시오. \n",
    "\n",
    "## INPUT\n",
    "\n",
    "### 입력은 여러 개의 테스트 케이스로 이루어져 있다. 각 케이스는 n을 포함하는 한 줄로 이루어져 있다.\n",
    "\n",
    "### 입력의 마지막에는 0이 주어진다.\n",
    "\n",
    "## OUTPUT\n",
    "\n",
    "### 각 테스트 케이스에 대해서, n보다 크고, 2n보다 작거나 같은 소수의 개수를 출력한다."
   ]
  },
  {
   "cell_type": "code",
   "execution_count": null,
   "id": "e7e6d54a",
   "metadata": {},
   "outputs": [],
   "source": [
    "## Baekjoon 4948\n",
    "import math\n",
    "\n",
    "def Prime_Num(n):\n",
    "    if n == 1:\n",
    "        return False\n",
    "    \n",
    "    hn = int(math.sqrt(n))\n",
    "    \n",
    "    for i in range(2,hn + 1):\n",
    "        if n % i == 0:\n",
    "            return False\n",
    "    return True\n",
    "\n",
    "Prime_numlist = []\n",
    "\n",
    "for i in range(2, 123456 * 2 + 1):\n",
    "    if Prime_Num(i):\n",
    "        Prime_numlist.append(i)\n",
    "        \n",
    "while True:\n",
    "    N = int(input())\n",
    "    if N == 0:\n",
    "        break\n",
    "    else:\n",
    "        cnt = 0\n",
    "        for i in Prime_numlist:\n",
    "            if N < i <= N * 2:\n",
    "                cnt += 1\n",
    "        print(cnt)"
   ]
  }
 ],
 "metadata": {
  "kernelspec": {
   "display_name": "Python 3",
   "language": "python",
   "name": "python3"
  },
  "language_info": {
   "codemirror_mode": {
    "name": "ipython",
    "version": 3
   },
   "file_extension": ".py",
   "mimetype": "text/x-python",
   "name": "python",
   "nbconvert_exporter": "python",
   "pygments_lexer": "ipython3",
   "version": "3.8.8"
  }
 },
 "nbformat": 4,
 "nbformat_minor": 5
}
