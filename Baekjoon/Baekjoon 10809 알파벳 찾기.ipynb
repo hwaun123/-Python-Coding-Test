{
 "cells": [
  {
   "cell_type": "markdown",
   "id": "ebba286e",
   "metadata": {},
   "source": [
    "# Baekjoon 10809\n",
    "\n",
    "## 알파벳 찾기\n",
    "\n",
    "### 알파벳 소문자로만 이루어진 단어 S가 주어진다. 각각의 알파벳에 대해서, 단어에 포함되어 있는 경우에는 \n",
    "\n",
    "### 처음 등장하는 위치를, 포함되어 있지 않은 경우에는 -1을 출력하는 프로그램을 작성하시오.\n",
    "\n",
    "## INPUT\n",
    "\n",
    "### 첫째 줄에 단어 S가 주어진다. 단어의 길이는 100을 넘지 않으며, 알파벳 소문자로만 이루어져 있다.\n",
    "\n",
    "## OUTPUT\n",
    "\n",
    "### 각각의 알파벳에 대해서, a가 처음 등장하는 위치, b가 처음 등장하는 위치, \n",
    "\n",
    "### ... z가 처음 등장하는 위치를 공백으로 구분해서 출력한다.\n",
    "\n",
    "### 만약, 어떤 알파벳이 단어에 포함되어 있지 않다면 -1을 출력한다.\n",
    "\n",
    "### 단어의 첫 번째 글자는 0번째 위치이고, 두 번째 글자는 1번째 위치이다."
   ]
  },
  {
   "cell_type": "code",
   "execution_count": null,
   "id": "348f9cbb",
   "metadata": {},
   "outputs": [],
   "source": [
    "## Baekjoon 10809\n",
    "S = input()\n",
    "alphabet = 'abcdefghijklmnopqrstuvwxyz'\n",
    "cntarr = [ -1 for i in range(len(alphabet))]\n",
    "\n",
    "for i in range(len(S)):\n",
    "    for j in range(len(alphabet)):\n",
    "        if S[i] == alphabet[j] and cntarr[j] == -1:\n",
    "            cntarr[j] = i\n",
    "\n",
    "for i in range(len(cntarr)):\n",
    "    print(cntarr[i], end = ' ')"
   ]
  }
 ],
 "metadata": {
  "kernelspec": {
   "display_name": "Python 3",
   "language": "python",
   "name": "python3"
  },
  "language_info": {
   "codemirror_mode": {
    "name": "ipython",
    "version": 3
   },
   "file_extension": ".py",
   "mimetype": "text/x-python",
   "name": "python",
   "nbconvert_exporter": "python",
   "pygments_lexer": "ipython3",
   "version": "3.8.8"
  }
 },
 "nbformat": 4,
 "nbformat_minor": 5
}
