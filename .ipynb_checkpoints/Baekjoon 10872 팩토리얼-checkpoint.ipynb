{
 "cells": [
  {
   "cell_type": "markdown",
   "id": "10fb3ab3",
   "metadata": {},
   "source": [
    "# Baekjoon 10872\n",
    "\n",
    "## 팩토리얼\n",
    "\n",
    "### 0보다 크거나 같은 정수 N이 주어진다. 이때, N!을 출력하는 프로그램을 작성하시오.\n",
    "\n",
    "## INPUT\n",
    "\n",
    "### 첫째 줄에 정수 N(0 ≤ N ≤ 12)이 주어진다.\n",
    "\n",
    "## OUTPUT\n",
    "\n",
    "### 첫째 줄에 N!을 출력한다."
   ]
  },
  {
   "cell_type": "code",
   "execution_count": null,
   "id": "81f6de93",
   "metadata": {},
   "outputs": [],
   "source": [
    "# Baekjoon 10872"
   ]
  }
 ],
 "metadata": {
  "kernelspec": {
   "display_name": "Python 3",
   "language": "python",
   "name": "python3"
  },
  "language_info": {
   "codemirror_mode": {
    "name": "ipython",
    "version": 3
   },
   "file_extension": ".py",
   "mimetype": "text/x-python",
   "name": "python",
   "nbconvert_exporter": "python",
   "pygments_lexer": "ipython3",
   "version": "3.8.8"
  }
 },
 "nbformat": 4,
 "nbformat_minor": 5
}
