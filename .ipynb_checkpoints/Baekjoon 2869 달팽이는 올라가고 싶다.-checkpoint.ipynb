{
 "cells": [
  {
   "cell_type": "markdown",
   "id": "7d4fc889",
   "metadata": {},
   "source": [
    "# Baekjoon 2869\n",
    "## 달팽이는 올라가고 싶다.\n",
    "\n",
    "### 땅 위에 달팽이가 있다. 이 달팽이는 높이가 V미터인 나무 막대를 올라갈 것이다.\n",
    "\n",
    "### 달팽이는 낮에 A미터 올라갈 수 있다. 하지만, 밤에 잠을 자는 동안 B미터 미끄러진다.\n",
    "\n",
    "### 또, 정상에 올라간 후에는 미끄러지지 않는다.\n",
    "\n",
    "### 달팽이가 나무 막대를 모두 올라가려면, 며칠이 걸리는지 구하는 프로그램을 작성하시오.\n",
    "\n",
    "## INPUT\n",
    "### 첫째 줄에 세 정수 A, B, V가 공백으로 구분되어서 주어진다. (1 ≤ B < A ≤ V ≤ 1,000,000,000)\n",
    "\n",
    "## OUTPUT\n",
    "### 첫째 줄에 달팽이가 나무 막대를 모두 올라가는데 며칠이 걸리는지 출력한다."
   ]
  },
  {
   "cell_type": "code",
   "execution_count": 10,
   "id": "05e9bb22",
   "metadata": {},
   "outputs": [
    {
     "name": "stdout",
     "output_type": "stream",
     "text": [
      "100 99 1000000000\n",
      "999999901\n"
     ]
    }
   ],
   "source": [
    "## Baekjoon 2869\n",
    "A, B, V = map(int,input().split())\n",
    "\n",
    "S = A - B # 하루에 올라 갈 수 있는 높이\n",
    "\n",
    "G = V - B # 목표 높이, 목표 높이에 도달 했다면 달팽이는 그날 밤 미끄러질 필요가 없음\n",
    "\n",
    "day = G // S\n",
    "\n",
    "if G % S > 0 :\n",
    "    day += 1\n",
    "\n",
    "print(day)"
   ]
  }
 ],
 "metadata": {
  "kernelspec": {
   "display_name": "Python 3",
   "language": "python",
   "name": "python3"
  },
  "language_info": {
   "codemirror_mode": {
    "name": "ipython",
    "version": 3
   },
   "file_extension": ".py",
   "mimetype": "text/x-python",
   "name": "python",
   "nbconvert_exporter": "python",
   "pygments_lexer": "ipython3",
   "version": "3.8.8"
  }
 },
 "nbformat": 4,
 "nbformat_minor": 5
}
